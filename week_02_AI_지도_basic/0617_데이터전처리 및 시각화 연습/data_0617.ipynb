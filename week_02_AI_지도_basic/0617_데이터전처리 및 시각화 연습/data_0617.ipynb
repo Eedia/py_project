{
 "cells": [
  {
   "cell_type": "markdown",
   "id": "8629461c",
   "metadata": {},
   "source": [
    "- 업종별로 남성과 여성 종사자 수에는 어떤 차이가 있을까?\n",
    "- \n",
    "\n",
    "- 1. 업종별 성비 파악 : 사업장명 (업태구분명) vs 남녀 종사자 수 비교\n",
    "- 2. 고용 규모 : 총직원수 및 시설총규모에 따른 업종별 평균 인력\n",
    "- 3. 시군구에 따른 고용 규모와 성비의 지역 차이!\n",
    "\n",
    "--> 남성여성 종사자수, 총직원수가 없음"
   ]
  },
  {
   "cell_type": "markdown",
   "id": "ad634ce2",
   "metadata": {},
   "source": [
    "---\n",
    "- 연도별 신규 인허가 수\n",
    "    - 연도별로 실제로 영업 중인 신규 인허가 사업장 수+이름\n",
    "\n",
    "- 인허가가 많은 시군구구 찾기 및 가장 많이 인허가된 업태명\n"
   ]
  },
  {
   "cell_type": "code",
   "execution_count": null,
   "id": "51f8f7b6",
   "metadata": {},
   "outputs": [],
   "source": [
    "import pandas as pd \n",
    "data = pd.read_csv('fulldat.csv', encoding='cp949', low_memory=False)"
   ]
  },
  {
   "cell_type": "code",
   "execution_count": 2,
   "id": "3f0b1b90",
   "metadata": {},
   "outputs": [
    {
     "name": "stdout",
     "output_type": "stream",
     "text": [
      "['번호' '개방서비스명' '개방서비스아이디' '개방자치단체코드' '관리번호' '인허가일자' '인허가취소일자' '영업상태구분코드'\n",
      " '영업상태명' '상세영업상태코드' '상세영업상태명' '폐업일자' '휴업시작일자' '휴업종료일자' '재개업일자' '소재지전화'\n",
      " '소재지면적' '소재지우편번호' '소재지전체주소' '도로명전체주소' '도로명우편번호' '사업장명' '최종수정시점' '데이터갱신구분'\n",
      " '데이터갱신일자' '업태구분명' '좌표정보x(epsg5174)' '좌표정보y(epsg5174)' '위생업태명' '남성종사자수'\n",
      " '여성종사자수' '영업장주변구분명' '등급구분명' '급수시설구분명' '총직원수' '본사직원수' '공장사무직직원수'\n",
      " '공장판매직직원수' '공장생산직직원수' '건물소유구분명' '보증액' '월세액' '다중이용업소여부' '시설총규모' '전통업소지정번호'\n",
      " '전통업소주된음식' '홈페이지' 'Unnamed: 47']\n"
     ]
    }
   ],
   "source": [
    "print(data.columns.values)  # columns list로 출력해준다."
   ]
  },
  {
   "cell_type": "code",
   "execution_count": 3,
   "id": "7959c24a",
   "metadata": {},
   "outputs": [
    {
     "data": {
      "text/html": [
       "<div>\n",
       "<style scoped>\n",
       "    .dataframe tbody tr th:only-of-type {\n",
       "        vertical-align: middle;\n",
       "    }\n",
       "\n",
       "    .dataframe tbody tr th {\n",
       "        vertical-align: top;\n",
       "    }\n",
       "\n",
       "    .dataframe thead th {\n",
       "        text-align: right;\n",
       "    }\n",
       "</style>\n",
       "<table border=\"1\" class=\"dataframe\">\n",
       "  <thead>\n",
       "    <tr style=\"text-align: right;\">\n",
       "      <th></th>\n",
       "      <th>번호</th>\n",
       "      <th>영업상태명</th>\n",
       "      <th>인허가일자</th>\n",
       "      <th>업태구분명</th>\n",
       "      <th>사업장명</th>\n",
       "      <th>소재지전체주소</th>\n",
       "      <th>도로명전체주소</th>\n",
       "    </tr>\n",
       "  </thead>\n",
       "  <tbody>\n",
       "    <tr>\n",
       "      <th>0</th>\n",
       "      <td>1</td>\n",
       "      <td>폐업</td>\n",
       "      <td>2024-12-02</td>\n",
       "      <td>기타 휴게음식점</td>\n",
       "      <td>팥붕슈붕</td>\n",
       "      <td>인천광역시 중구 운서동 2874 파라다이스시티 플라자 1층</td>\n",
       "      <td>인천광역시 중구 영종해안남로321번길 186, 파라다이스시티 플라자 1층 (운서동)</td>\n",
       "    </tr>\n",
       "    <tr>\n",
       "      <th>1</th>\n",
       "      <td>2</td>\n",
       "      <td>폐업</td>\n",
       "      <td>2025-01-06</td>\n",
       "      <td>커피숍</td>\n",
       "      <td>헤이븐(haven)</td>\n",
       "      <td>서울특별시 금천구 가산동 345-2</td>\n",
       "      <td>서울특별시 금천구 가산디지털1로 100, 1층 117호 (가산동)</td>\n",
       "    </tr>\n",
       "    <tr>\n",
       "      <th>2</th>\n",
       "      <td>3</td>\n",
       "      <td>폐업</td>\n",
       "      <td>2025-01-21</td>\n",
       "      <td>기타 휴게음식점</td>\n",
       "      <td>리은푸드</td>\n",
       "      <td>대구광역시 중구 계산동2가 0200 현대백화점 지하1층</td>\n",
       "      <td>대구광역시 중구 달구벌대로 2077, 현대백화점 지하1층 (계산동2가)</td>\n",
       "    </tr>\n",
       "    <tr>\n",
       "      <th>3</th>\n",
       "      <td>4</td>\n",
       "      <td>폐업</td>\n",
       "      <td>2025-01-21</td>\n",
       "      <td>기타 휴게음식점</td>\n",
       "      <td>(주)파파밸리</td>\n",
       "      <td>경기도 하남시 신장동 616 스타필드 하남</td>\n",
       "      <td>경기도 하남시 미사대로 750, 신세계백화점 스타필드 하남 지하1층 (신장동)</td>\n",
       "    </tr>\n",
       "    <tr>\n",
       "      <th>4</th>\n",
       "      <td>5</td>\n",
       "      <td>폐업</td>\n",
       "      <td>2025-01-21</td>\n",
       "      <td>기타 휴게음식점</td>\n",
       "      <td>이안만두</td>\n",
       "      <td>경기도 하남시 신장동 616 스타필드 하남</td>\n",
       "      <td>경기도 하남시 미사대로 750, 스타필드 하남 신세계백화점 지하2층 일부호 (신장동)</td>\n",
       "    </tr>\n",
       "    <tr>\n",
       "      <th>...</th>\n",
       "      <td>...</td>\n",
       "      <td>...</td>\n",
       "      <td>...</td>\n",
       "      <td>...</td>\n",
       "      <td>...</td>\n",
       "      <td>...</td>\n",
       "      <td>...</td>\n",
       "    </tr>\n",
       "    <tr>\n",
       "      <th>602902</th>\n",
       "      <td>602903</td>\n",
       "      <td>영업/정상</td>\n",
       "      <td>2018-03-14</td>\n",
       "      <td>편의점</td>\n",
       "      <td>GS25HR아팰리스점</td>\n",
       "      <td>광주광역시 남구 봉선동 1095 1층 201동 102호</td>\n",
       "      <td>광주광역시 남구 제석로 104, 201동 1층 102호 (봉선동)</td>\n",
       "    </tr>\n",
       "    <tr>\n",
       "      <th>602903</th>\n",
       "      <td>602904</td>\n",
       "      <td>영업/정상</td>\n",
       "      <td>2018-04-10</td>\n",
       "      <td>일반조리판매</td>\n",
       "      <td>석류나무</td>\n",
       "      <td>광주광역시 남구 백운동 620-11번지 1층</td>\n",
       "      <td>광주광역시 남구 독립로 30-3, 1층 (백운동)</td>\n",
       "    </tr>\n",
       "    <tr>\n",
       "      <th>602904</th>\n",
       "      <td>602905</td>\n",
       "      <td>영업/정상</td>\n",
       "      <td>2018-04-19</td>\n",
       "      <td>일반조리판매</td>\n",
       "      <td>블랑PC토랑</td>\n",
       "      <td>광주광역시 남구 진월동 294-17 광동빌딩, 2층</td>\n",
       "      <td>광주광역시 남구 서문대로 700, 광동빌딩 2층 (진월동)</td>\n",
       "    </tr>\n",
       "    <tr>\n",
       "      <th>602905</th>\n",
       "      <td>602906</td>\n",
       "      <td>영업/정상</td>\n",
       "      <td>2017-12-18</td>\n",
       "      <td>기타 휴게음식점</td>\n",
       "      <td>아틀리에pc</td>\n",
       "      <td>광주광역시 남구 월산동 901-30 1층</td>\n",
       "      <td>광주광역시 남구 월산로151번길 10, 땡큐pc방 1층 (월산동)</td>\n",
       "    </tr>\n",
       "    <tr>\n",
       "      <th>602906</th>\n",
       "      <td>602907</td>\n",
       "      <td>영업/정상</td>\n",
       "      <td>2010-03-16</td>\n",
       "      <td>일반조리판매</td>\n",
       "      <td>굿모닝토스트</td>\n",
       "      <td>광주광역시 서구 화정동 334-123번지 (1층)</td>\n",
       "      <td>광주광역시 서구 월드컵4강로112번길 7-14 (화정동,(1층))</td>\n",
       "    </tr>\n",
       "  </tbody>\n",
       "</table>\n",
       "<p>602907 rows × 7 columns</p>\n",
       "</div>"
      ],
      "text/plain": [
       "            번호  영업상태명       인허가일자     업태구분명         사업장명  \\\n",
       "0            1     폐업  2024-12-02  기타 휴게음식점         팥붕슈붕   \n",
       "1            2     폐업  2025-01-06       커피숍   헤이븐(haven)   \n",
       "2            3     폐업  2025-01-21  기타 휴게음식점         리은푸드   \n",
       "3            4     폐업  2025-01-21  기타 휴게음식점      (주)파파밸리   \n",
       "4            5     폐업  2025-01-21  기타 휴게음식점         이안만두   \n",
       "...        ...    ...         ...       ...          ...   \n",
       "602902  602903  영업/정상  2018-03-14       편의점  GS25HR아팰리스점   \n",
       "602903  602904  영업/정상  2018-04-10    일반조리판매         석류나무   \n",
       "602904  602905  영업/정상  2018-04-19    일반조리판매       블랑PC토랑   \n",
       "602905  602906  영업/정상  2017-12-18  기타 휴게음식점       아틀리에pc   \n",
       "602906  602907  영업/정상  2010-03-16    일반조리판매       굿모닝토스트   \n",
       "\n",
       "                                 소재지전체주소  \\\n",
       "0       인천광역시 중구 운서동 2874 파라다이스시티 플라자 1층   \n",
       "1                    서울특별시 금천구 가산동 345-2   \n",
       "2         대구광역시 중구 계산동2가 0200 현대백화점 지하1층   \n",
       "3                경기도 하남시 신장동 616 스타필드 하남   \n",
       "4                경기도 하남시 신장동 616 스타필드 하남   \n",
       "...                                  ...   \n",
       "602902    광주광역시 남구 봉선동 1095 1층 201동 102호   \n",
       "602903          광주광역시 남구 백운동 620-11번지 1층   \n",
       "602904      광주광역시 남구 진월동 294-17 광동빌딩, 2층   \n",
       "602905            광주광역시 남구 월산동 901-30 1층   \n",
       "602906       광주광역시 서구 화정동 334-123번지 (1층)   \n",
       "\n",
       "                                                도로명전체주소  \n",
       "0        인천광역시 중구 영종해안남로321번길 186, 파라다이스시티 플라자 1층 (운서동)  \n",
       "1                  서울특별시 금천구 가산디지털1로 100, 1층 117호 (가산동)  \n",
       "2               대구광역시 중구 달구벌대로 2077, 현대백화점 지하1층 (계산동2가)  \n",
       "3           경기도 하남시 미사대로 750, 신세계백화점 스타필드 하남 지하1층 (신장동)  \n",
       "4       경기도 하남시 미사대로 750, 스타필드 하남 신세계백화점 지하2층 일부호 (신장동)  \n",
       "...                                                 ...  \n",
       "602902             광주광역시 남구 제석로 104, 201동 1층 102호 (봉선동)  \n",
       "602903                      광주광역시 남구 독립로 30-3, 1층 (백운동)  \n",
       "602904                 광주광역시 남구 서문대로 700, 광동빌딩 2층 (진월동)  \n",
       "602905             광주광역시 남구 월산로151번길 10, 땡큐pc방 1층 (월산동)  \n",
       "602906             광주광역시 서구 월드컵4강로112번길 7-14 (화정동,(1층))  \n",
       "\n",
       "[602907 rows x 7 columns]"
      ]
     },
     "execution_count": 3,
     "metadata": {},
     "output_type": "execute_result"
    }
   ],
   "source": [
    "data_1 = data[[ '번호','영업상태명','인허가일자',\n",
    "    '업태구분명','사업장명',\n",
    "    '소재지전체주소',\n",
    "    '도로명전체주소',\n",
    "    ]]\n",
    "\n",
    "data_1"
   ]
  },
  {
   "cell_type": "code",
   "execution_count": 4,
   "id": "ecb668fb",
   "metadata": {},
   "outputs": [
    {
     "name": "stdout",
     "output_type": "stream",
     "text": [
      "<class 'pandas.core.frame.DataFrame'>\n",
      "RangeIndex: 602907 entries, 0 to 602906\n",
      "Data columns (total 7 columns):\n",
      " #   Column   Non-Null Count   Dtype \n",
      "---  ------   --------------   ----- \n",
      " 0   번호       602907 non-null  int64 \n",
      " 1   영업상태명    602907 non-null  object\n",
      " 2   인허가일자    602888 non-null  object\n",
      " 3   업태구분명    602890 non-null  object\n",
      " 4   사업장명     602907 non-null  object\n",
      " 5   소재지전체주소  601073 non-null  object\n",
      " 6   도로명전체주소  459407 non-null  object\n",
      "dtypes: int64(1), object(6)\n",
      "memory usage: 32.2+ MB\n"
     ]
    }
   ],
   "source": [
    "data_1.info()"
   ]
  },
  {
   "cell_type": "code",
   "execution_count": 5,
   "id": "36c2cc5f",
   "metadata": {},
   "outputs": [
    {
     "name": "stdout",
     "output_type": "stream",
     "text": [
      "<class 'pandas.core.frame.DataFrame'>\n",
      "Index: 601073 entries, 0 to 602906\n",
      "Data columns (total 7 columns):\n",
      " #   Column   Non-Null Count   Dtype \n",
      "---  ------   --------------   ----- \n",
      " 0   번호       601073 non-null  int64 \n",
      " 1   영업상태명    601073 non-null  object\n",
      " 2   인허가일자    601054 non-null  object\n",
      " 3   업태구분명    601056 non-null  object\n",
      " 4   사업장명     601073 non-null  object\n",
      " 5   소재지전체주소  601073 non-null  object\n",
      " 6   도로명전체주소  457573 non-null  object\n",
      "dtypes: int64(1), object(6)\n",
      "memory usage: 36.7+ MB\n"
     ]
    }
   ],
   "source": [
    "# 소재지 기준으로 값이 Na 인 행을 삭제\n",
    "data_2 = data_1.dropna(subset=['소재지전체주소'])\n",
    "data_2.info()"
   ]
  },
  {
   "cell_type": "code",
   "execution_count": 6,
   "id": "e8e95562",
   "metadata": {},
   "outputs": [
    {
     "name": "stdout",
     "output_type": "stream",
     "text": [
      "<class 'pandas.core.frame.DataFrame'>\n",
      "Index: 601054 entries, 0 to 602906\n",
      "Data columns (total 7 columns):\n",
      " #   Column   Non-Null Count   Dtype \n",
      "---  ------   --------------   ----- \n",
      " 0   번호       601054 non-null  int64 \n",
      " 1   영업상태명    601054 non-null  object\n",
      " 2   인허가일자    601054 non-null  object\n",
      " 3   업태구분명    601037 non-null  object\n",
      " 4   사업장명     601054 non-null  object\n",
      " 5   소재지전체주소  601054 non-null  object\n",
      " 6   도로명전체주소  457572 non-null  object\n",
      "dtypes: int64(1), object(6)\n",
      "memory usage: 36.7+ MB\n"
     ]
    }
   ],
   "source": [
    "data_2 = data_2.dropna(subset=['인허가일자'])\n",
    "data_2.info()"
   ]
  },
  {
   "cell_type": "code",
   "execution_count": 7,
   "id": "b5c628b5",
   "metadata": {},
   "outputs": [
    {
     "name": "stdout",
     "output_type": "stream",
     "text": [
      "<class 'pandas.core.frame.DataFrame'>\n",
      "Index: 601037 entries, 0 to 602906\n",
      "Data columns (total 7 columns):\n",
      " #   Column   Non-Null Count   Dtype \n",
      "---  ------   --------------   ----- \n",
      " 0   번호       601037 non-null  int64 \n",
      " 1   영업상태명    601037 non-null  object\n",
      " 2   인허가일자    601037 non-null  object\n",
      " 3   업태구분명    601037 non-null  object\n",
      " 4   사업장명     601037 non-null  object\n",
      " 5   소재지전체주소  601037 non-null  object\n",
      " 6   도로명전체주소  457556 non-null  object\n",
      "dtypes: int64(1), object(6)\n",
      "memory usage: 36.7+ MB\n"
     ]
    }
   ],
   "source": [
    "data_2 = data_2.dropna(subset=['업태구분명'])\n",
    "data_2.info()"
   ]
  },
  {
   "cell_type": "code",
   "execution_count": 8,
   "id": "63d64918",
   "metadata": {},
   "outputs": [],
   "source": [
    "# 인허가 일자를 datetime 으로 변환\n",
    "data_2['인허가일자'] = pd.to_datetime(data_2['인허가일자'], errors='coerce')\n",
    "\n",
    "# 연도 컬럼 생성\n",
    "data_2['인허가연도'] = data_2['인허가일자'].dt.year\n",
    "\n",
    "# 2023~2025만 필터링\n",
    "data_recent = data_2[data_2['인허가연도'].between(2023,2025)]\n",
    "\n",
    "# 영업/정상인 가게들만 필터링\n",
    "data_recent = data_2[data_2['영업상태명'] == '영업/정상'].copy()\n"
   ]
  },
  {
   "cell_type": "code",
   "execution_count": 9,
   "id": "c223997d",
   "metadata": {},
   "outputs": [],
   "source": [
    "# 시군구 추출\n",
    "data_recent.loc[:,'시군구'] = data_recent['소재지전체주소'].str.split().str[1]"
   ]
  },
  {
   "cell_type": "code",
   "execution_count": 10,
   "id": "15ca9c6a",
   "metadata": {},
   "outputs": [
    {
     "data": {
      "text/html": [
       "<div>\n",
       "<style scoped>\n",
       "    .dataframe tbody tr th:only-of-type {\n",
       "        vertical-align: middle;\n",
       "    }\n",
       "\n",
       "    .dataframe tbody tr th {\n",
       "        vertical-align: top;\n",
       "    }\n",
       "\n",
       "    .dataframe thead th {\n",
       "        text-align: right;\n",
       "    }\n",
       "</style>\n",
       "<table border=\"1\" class=\"dataframe\">\n",
       "  <thead>\n",
       "    <tr style=\"text-align: right;\">\n",
       "      <th></th>\n",
       "      <th>번호</th>\n",
       "      <th>영업상태명</th>\n",
       "      <th>인허가일자</th>\n",
       "      <th>업태구분명</th>\n",
       "      <th>사업장명</th>\n",
       "      <th>소재지전체주소</th>\n",
       "      <th>도로명전체주소</th>\n",
       "      <th>인허가연도</th>\n",
       "      <th>시군구</th>\n",
       "    </tr>\n",
       "  </thead>\n",
       "  <tbody>\n",
       "    <tr>\n",
       "      <th>402498</th>\n",
       "      <td>402499</td>\n",
       "      <td>영업/정상</td>\n",
       "      <td>2024-12-02</td>\n",
       "      <td>커피숍</td>\n",
       "      <td>토르락(TORRAC)</td>\n",
       "      <td>경상남도 진주시 칠암동 52-1</td>\n",
       "      <td>경상남도 진주시 동진로50번길 5, 1층 일부 (칠암동)</td>\n",
       "      <td>2024.0</td>\n",
       "      <td>진주시</td>\n",
       "    </tr>\n",
       "    <tr>\n",
       "      <th>402499</th>\n",
       "      <td>402500</td>\n",
       "      <td>영업/정상</td>\n",
       "      <td>2024-12-02</td>\n",
       "      <td>기타 휴게음식점</td>\n",
       "      <td>스타벅스 신촌로점</td>\n",
       "      <td>서울특별시 서대문구 창천동 29-81 신촌르메이에르타운5</td>\n",
       "      <td>서울특별시 서대문구 신촌로 109, 신촌르메이에르타운5 1층 103-2,103-3호...</td>\n",
       "      <td>2024.0</td>\n",
       "      <td>서대문구</td>\n",
       "    </tr>\n",
       "    <tr>\n",
       "      <th>402500</th>\n",
       "      <td>402501</td>\n",
       "      <td>영업/정상</td>\n",
       "      <td>2024-12-02</td>\n",
       "      <td>커피숍</td>\n",
       "      <td>JUI·SEA(쥬시)</td>\n",
       "      <td>세종특별자치시 아름동 1309</td>\n",
       "      <td>세종특별자치시 세종로 1234-16, 동행주차타워 1층 106호 (아름동)</td>\n",
       "      <td>2024.0</td>\n",
       "      <td>아름동</td>\n",
       "    </tr>\n",
       "  </tbody>\n",
       "</table>\n",
       "</div>"
      ],
      "text/plain": [
       "            번호  영업상태명      인허가일자     업태구분명         사업장명  \\\n",
       "402498  402499  영업/정상 2024-12-02       커피숍  토르락(TORRAC)   \n",
       "402499  402500  영업/정상 2024-12-02  기타 휴게음식점    스타벅스 신촌로점   \n",
       "402500  402501  영업/정상 2024-12-02       커피숍  JUI·SEA(쥬시)   \n",
       "\n",
       "                                소재지전체주소  \\\n",
       "402498                경상남도 진주시 칠암동 52-1   \n",
       "402499  서울특별시 서대문구 창천동 29-81 신촌르메이에르타운5   \n",
       "402500                 세종특별자치시 아름동 1309   \n",
       "\n",
       "                                                  도로명전체주소   인허가연도   시군구  \n",
       "402498                    경상남도 진주시 동진로50번길 5, 1층 일부 (칠암동)  2024.0   진주시  \n",
       "402499  서울특별시 서대문구 신촌로 109, 신촌르메이에르타운5 1층 103-2,103-3호...  2024.0  서대문구  \n",
       "402500          세종특별자치시 세종로 1234-16, 동행주차타워 1층 106호 (아름동)  2024.0   아름동  "
      ]
     },
     "execution_count": 10,
     "metadata": {},
     "output_type": "execute_result"
    }
   ],
   "source": [
    "data_recent.head(3)"
   ]
  },
  {
   "cell_type": "code",
   "execution_count": 11,
   "id": "17cca0bb",
   "metadata": {},
   "outputs": [],
   "source": [
    "# 가장 인허가가 많은 시군구 찾기\n",
    "# idmax() 란 최대값을 가진 index를 반환하는 함수\n",
    "dt_top_region = data_recent['시군구'].value_counts().idxmax()"
   ]
  },
  {
   "cell_type": "code",
   "execution_count": 12,
   "id": "58545a30",
   "metadata": {},
   "outputs": [],
   "source": [
    "# 그 신구구에서 가장 많은 업종\n",
    "dt_region = data_recent[data_recent['시군구'] == dt_top_region]\n",
    "dt_top_type = dt_region['업태구분명'].value_counts().idxmax()"
   ]
  },
  {
   "cell_type": "code",
   "execution_count": 13,
   "id": "1d4a825f",
   "metadata": {},
   "outputs": [
    {
     "name": "stdout",
     "output_type": "stream",
     "text": [
      "최근 3년간 가장 활발한 인허가 지역은 **중구**이며, 주로 **커피숍** 업태에서 창업이 활발했다.\n"
     ]
    }
   ],
   "source": [
    "# 결과 출력\n",
    "print(f\"최근 3년간 가장 활발한 인허가 지역은 **{dt_top_region}**이며, 주로 **{dt_top_type}** 업태에서 창업이 활발했다.\")"
   ]
  },
  {
   "cell_type": "code",
   "execution_count": 14,
   "id": "ebe06c29",
   "metadata": {},
   "outputs": [],
   "source": [
    "# 2023~2025 시군구별 인허가 수 (top5)\n",
    "top5_region_counts = data_recent['시군구'].value_counts().head(5)\n",
    "\n",
    "# 각 시군구별 최다 업태명 추출\n",
    "top5_regions = top5_region_counts.index\n",
    "region_top_biz = {}\n",
    "\n",
    "for region in top5_regions:\n",
    "    region_data = data_recent[data_recent['시군구'] == region]\n",
    "    top_biz = region_data['업태구분명'].value_counts().idxmax()\n",
    "    region_top_biz[region] = top_biz\n"
   ]
  },
  {
   "cell_type": "code",
   "execution_count": 15,
   "id": "1f2bb7c9",
   "metadata": {},
   "outputs": [
    {
     "data": {
      "image/png": "[encoded data removed]",
      "text/plain": [
       "<Figure size 1200x600 with 1 Axes>"
      ]
     },
     "metadata": {},
     "output_type": "display_data"
    }
   ],
   "source": [
    "# 시각화\n",
    "import matplotlib.pyplot as plt\n",
    "import matplotlib.font_manager as fm    \n",
    "import matplotlib as mpl\n",
    "\n",
    "plt.rcParams['font.family'] = 'Malgun Gothic'\n",
    "\n",
    "plt.figure(figsize=(12, 6))\n",
    "bars = top5_region_counts.sort_values().plot(kind='barh', color='skyblue', edgecolor='black')\n",
    "\n",
    "plt.xticks(rotation=45)\n",
    "plt.title('최근 3년간 인허가 top5 시군구 (대표 업태 포함)')\n",
    "plt.xlabel('인허가 건수')\n",
    "plt.ylabel('시군구')\n",
    "\n",
    "# 막대 옆에 업태명 추가\n",
    "sorted_regions = top5_region_counts.sort_values().index\n",
    "for i, region in enumerate(sorted_regions):\n",
    "    value = top5_region_counts[region]\n",
    "    업태 = region_top_biz[region]\n",
    "    plt.text(value + 100, i, 업태, va='center', fontsize=10, color='black')\n",
    "\n",
    "plt.tight_layout()\n",
    "plt.show()\n"
   ]
  },
  {
   "cell_type": "markdown",
   "id": "3db56b57",
   "metadata": {},
   "source": [
    "---\n",
    "여기 아래는 연도별 신규 사업장 수"
   ]
  },
  {
   "cell_type": "code",
   "execution_count": 16,
   "id": "25f02682",
   "metadata": {},
   "outputs": [],
   "source": [
    "dt_result = data_recent.groupby('인허가연도').size().reset_index(name='신규사업장수')"
   ]
  },
  {
   "cell_type": "code",
   "execution_count": 17,
   "id": "ba83776a",
   "metadata": {},
   "outputs": [
    {
     "data": {
      "text/html": [
       "<div>\n",
       "<style scoped>\n",
       "    .dataframe tbody tr th:only-of-type {\n",
       "        vertical-align: middle;\n",
       "    }\n",
       "\n",
       "    .dataframe tbody tr th {\n",
       "        vertical-align: top;\n",
       "    }\n",
       "\n",
       "    .dataframe thead th {\n",
       "        text-align: right;\n",
       "    }\n",
       "</style>\n",
       "<table border=\"1\" class=\"dataframe\">\n",
       "  <thead>\n",
       "    <tr style=\"text-align: right;\">\n",
       "      <th></th>\n",
       "      <th>인허가연도</th>\n",
       "      <th>신규사업장수</th>\n",
       "    </tr>\n",
       "  </thead>\n",
       "  <tbody>\n",
       "    <tr>\n",
       "      <th>0</th>\n",
       "      <td>1913.0</td>\n",
       "      <td>1</td>\n",
       "    </tr>\n",
       "    <tr>\n",
       "      <th>1</th>\n",
       "      <td>1963.0</td>\n",
       "      <td>1</td>\n",
       "    </tr>\n",
       "    <tr>\n",
       "      <th>2</th>\n",
       "      <td>1964.0</td>\n",
       "      <td>3</td>\n",
       "    </tr>\n",
       "    <tr>\n",
       "      <th>3</th>\n",
       "      <td>1965.0</td>\n",
       "      <td>3</td>\n",
       "    </tr>\n",
       "    <tr>\n",
       "      <th>4</th>\n",
       "      <td>1966.0</td>\n",
       "      <td>5</td>\n",
       "    </tr>\n",
       "    <tr>\n",
       "      <th>...</th>\n",
       "      <td>...</td>\n",
       "      <td>...</td>\n",
       "    </tr>\n",
       "    <tr>\n",
       "      <th>59</th>\n",
       "      <td>2021.0</td>\n",
       "      <td>20271</td>\n",
       "    </tr>\n",
       "    <tr>\n",
       "      <th>60</th>\n",
       "      <td>2022.0</td>\n",
       "      <td>20398</td>\n",
       "    </tr>\n",
       "    <tr>\n",
       "      <th>61</th>\n",
       "      <td>2023.0</td>\n",
       "      <td>21630</td>\n",
       "    </tr>\n",
       "    <tr>\n",
       "      <th>62</th>\n",
       "      <td>2024.0</td>\n",
       "      <td>23000</td>\n",
       "    </tr>\n",
       "    <tr>\n",
       "      <th>63</th>\n",
       "      <td>2025.0</td>\n",
       "      <td>9671</td>\n",
       "    </tr>\n",
       "  </tbody>\n",
       "</table>\n",
       "<p>64 rows × 2 columns</p>\n",
       "</div>"
      ],
      "text/plain": [
       "     인허가연도  신규사업장수\n",
       "0   1913.0       1\n",
       "1   1963.0       1\n",
       "2   1964.0       3\n",
       "3   1965.0       3\n",
       "4   1966.0       5\n",
       "..     ...     ...\n",
       "59  2021.0   20271\n",
       "60  2022.0   20398\n",
       "61  2023.0   21630\n",
       "62  2024.0   23000\n",
       "63  2025.0    9671\n",
       "\n",
       "[64 rows x 2 columns]"
      ]
     },
     "execution_count": 17,
     "metadata": {},
     "output_type": "execute_result"
    }
   ],
   "source": [
    "dt_result"
   ]
  },
  {
   "cell_type": "code",
   "execution_count": 18,
   "id": "009d33f6",
   "metadata": {},
   "outputs": [],
   "source": [
    "# 인허가연도를 int형으로 변환\n",
    "dt_result['인허가연도'] = dt_result['인허가연도'].astype('Int64')  # pandas nullable int\n"
   ]
  },
  {
   "cell_type": "code",
   "execution_count": 19,
   "id": "0ae184a2",
   "metadata": {},
   "outputs": [
    {
     "data": {
      "image/png": "[encoded data removed]",
      "text/plain": [
       "<Figure size 1200x600 with 1 Axes>"
      ]
     },
     "metadata": {},
     "output_type": "display_data"
    }
   ],
   "source": [
    "import matplotlib.pyplot as plt\n",
    "import matplotlib.font_manager as fm    \n",
    "import matplotlib as mpl\n",
    "\n",
    "plt.rcParams['font.family'] = 'Malgun Gothic'\n",
    "\n",
    "plt.figure(figsize=(12,6))\n",
    "\n",
    "plt.bar(dt_result['인허가연도'], dt_result['신규사업장수'])\n",
    "plt.xticks(rotation=45)\n",
    "plt.title('연도별 신규사업장수')\n",
    "plt.xlabel('인허가연도')\n",
    "plt.ylabel('신규사업장수')\n",
    "\n",
    "plt.show()"
   ]
  }
 ],
 "metadata": {
  "kernelspec": {
   "display_name": ".venv",
   "language": "python",
   "name": "python3"
  },
  "language_info": {
   "codemirror_mode": {
    "name": "ipython",
    "version": 3
   },
   "file_extension": ".py",
   "mimetype": "text/x-python",
   "name": "python",
   "nbconvert_exporter": "python",
   "pygments_lexer": "ipython3",
   "version": "3.13.4"
  }
 },
 "nbformat": 4,
 "nbformat_minor": 5
}
