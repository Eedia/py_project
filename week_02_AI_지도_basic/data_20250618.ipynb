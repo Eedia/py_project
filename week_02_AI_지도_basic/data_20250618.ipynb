{
 "cells": [
  {
   "cell_type": "markdown",
   "id": "c6fa32e5",
   "metadata": {},
   "source": [
    "- 사이킥런\n"
   ]
  },
  {
   "cell_type": "code",
   "execution_count": 1,
   "id": "b5296915",
   "metadata": {},
   "outputs": [],
   "source": [
    "import pandas as pd"
   ]
  },
  {
   "cell_type": "code",
   "execution_count": 2,
   "id": "f9655d03",
   "metadata": {},
   "outputs": [],
   "source": [
    "data = pd.DataFrame({'Original': [1, 4, 16, 36, 100, 1000, 10000]})"
   ]
  },
  {
   "cell_type": "code",
   "execution_count": 3,
   "id": "9904e3e7",
   "metadata": {},
   "outputs": [],
   "source": [
    "from sklearn.preprocessing import StandardScaler, MinMaxScaler, LabelEncoder,OneHotEncoder  #데이터를 스케일,정규화\n"
   ]
  },
  {
   "cell_type": "code",
   "execution_count": 4,
   "id": "75e14b6f",
   "metadata": {},
   "outputs": [],
   "source": [
    "data1 = pd.DataFrame({'Original' : [50,80,90,100,170]})\n",
    "data2 = pd.DataFrame({'Fruits': ['사과', '배', '포도', '사과', '포도']})"
   ]
  },
  {
   "cell_type": "code",
   "execution_count": null,
   "id": "2cf54fdf",
   "metadata": {},
   "outputs": [],
   "source": [
    "## scikit-learn의 전처리기는 2차원 배열을 입력으로 요구!!\n",
    "## 왜? \"샘플수 x 특성수\" 형태의 2차원 배열로 입력 데이터를 바란다.\n",
    "\n",
    "# fit_transform() -> 데이터를 학습하고 변환까지 한번에 수행\n",
    "\n",
    "# 표준화\n",
    "scaler_1 = StandardScaler()\n",
    "data1['scale_1'] = scaler_1.fit_transform(data1[['Original']])\n",
    "\n",
    "# 정규화\n",
    "scaler_2 = MinMaxScaler()\n",
    "data1['scale_2'] = scaler_2.fit_transform(data1[['Original']])"
   ]
  },
  {
   "cell_type": "code",
   "execution_count": 6,
   "id": "7f9ebf46",
   "metadata": {},
   "outputs": [
    {
     "data": {
      "text/html": [
       "<div>\n",
       "<style scoped>\n",
       "    .dataframe tbody tr th:only-of-type {\n",
       "        vertical-align: middle;\n",
       "    }\n",
       "\n",
       "    .dataframe tbody tr th {\n",
       "        vertical-align: top;\n",
       "    }\n",
       "\n",
       "    .dataframe thead th {\n",
       "        text-align: right;\n",
       "    }\n",
       "</style>\n",
       "<table border=\"1\" class=\"dataframe\">\n",
       "  <thead>\n",
       "    <tr style=\"text-align: right;\">\n",
       "      <th></th>\n",
       "      <th>Original</th>\n",
       "      <th>scale_1</th>\n",
       "      <th>scale_2</th>\n",
       "    </tr>\n",
       "  </thead>\n",
       "  <tbody>\n",
       "    <tr>\n",
       "      <th>0</th>\n",
       "      <td>50</td>\n",
       "      <td>-1.209103</td>\n",
       "      <td>0.000000</td>\n",
       "    </tr>\n",
       "    <tr>\n",
       "      <th>1</th>\n",
       "      <td>80</td>\n",
       "      <td>-0.453413</td>\n",
       "      <td>0.250000</td>\n",
       "    </tr>\n",
       "    <tr>\n",
       "      <th>2</th>\n",
       "      <td>90</td>\n",
       "      <td>-0.201517</td>\n",
       "      <td>0.333333</td>\n",
       "    </tr>\n",
       "    <tr>\n",
       "      <th>3</th>\n",
       "      <td>100</td>\n",
       "      <td>0.050379</td>\n",
       "      <td>0.416667</td>\n",
       "    </tr>\n",
       "    <tr>\n",
       "      <th>4</th>\n",
       "      <td>170</td>\n",
       "      <td>1.813654</td>\n",
       "      <td>1.000000</td>\n",
       "    </tr>\n",
       "  </tbody>\n",
       "</table>\n",
       "</div>"
      ],
      "text/plain": [
       "   Original   scale_1   scale_2\n",
       "0        50 -1.209103  0.000000\n",
       "1        80 -0.453413  0.250000\n",
       "2        90 -0.201517  0.333333\n",
       "3       100  0.050379  0.416667\n",
       "4       170  1.813654  1.000000"
      ]
     },
     "execution_count": 6,
     "metadata": {},
     "output_type": "execute_result"
    }
   ],
   "source": [
    "data1"
   ]
  },
  {
   "cell_type": "code",
   "execution_count": null,
   "id": "5a9cce07",
   "metadata": {},
   "outputs": [],
   "source": [
    "# 레이블의 인코딩\n",
    "encoder_1 = LabelEncoder()\n",
    "data2['Label Encoding'] = encoder_1.fit_transform(data2['Fruits'])\n"
   ]
  },
  {
   "cell_type": "code",
   "execution_count": 10,
   "id": "f6548ef2",
   "metadata": {},
   "outputs": [],
   "source": [
    "encoder_2 = OneHotEncoder(sparse_output=False)\n",
    "onhot_encoded= encoder_2.fit_transform(data2[['Label Encoding']])"
   ]
  },
  {
   "cell_type": "code",
   "execution_count": 11,
   "id": "46b477a4",
   "metadata": {},
   "outputs": [
    {
     "name": "stdout",
     "output_type": "stream",
     "text": [
      "['Label Encoding_0' 'Label Encoding_1' 'Label Encoding_2']\n"
     ]
    }
   ],
   "source": [
    "onehot_col = encoder_2.get_feature_names_out()\n",
    "print(onehot_col)"
   ]
  },
  {
   "cell_type": "code",
   "execution_count": 13,
   "id": "c7989883",
   "metadata": {},
   "outputs": [
    {
     "name": "stdout",
     "output_type": "stream",
     "text": [
      "['Label Encoding_0' 'Label Encoding_1' 'Label Encoding_2']\n"
     ]
    }
   ],
   "source": [
    "onehot_df = pd.DataFrame(onhot_encoded, columns = onehot_col)\n",
    "print(onehot_col)"
   ]
  },
  {
   "cell_type": "code",
   "execution_count": 14,
   "id": "254812c3",
   "metadata": {},
   "outputs": [
    {
     "data": {
      "text/html": [
       "<div>\n",
       "<style scoped>\n",
       "    .dataframe tbody tr th:only-of-type {\n",
       "        vertical-align: middle;\n",
       "    }\n",
       "\n",
       "    .dataframe tbody tr th {\n",
       "        vertical-align: top;\n",
       "    }\n",
       "\n",
       "    .dataframe thead th {\n",
       "        text-align: right;\n",
       "    }\n",
       "</style>\n",
       "<table border=\"1\" class=\"dataframe\">\n",
       "  <thead>\n",
       "    <tr style=\"text-align: right;\">\n",
       "      <th></th>\n",
       "      <th>Label Encoding_0</th>\n",
       "      <th>Label Encoding_1</th>\n",
       "      <th>Label Encoding_2</th>\n",
       "    </tr>\n",
       "  </thead>\n",
       "  <tbody>\n",
       "    <tr>\n",
       "      <th>0</th>\n",
       "      <td>0.0</td>\n",
       "      <td>1.0</td>\n",
       "      <td>0.0</td>\n",
       "    </tr>\n",
       "    <tr>\n",
       "      <th>1</th>\n",
       "      <td>1.0</td>\n",
       "      <td>0.0</td>\n",
       "      <td>0.0</td>\n",
       "    </tr>\n",
       "    <tr>\n",
       "      <th>2</th>\n",
       "      <td>0.0</td>\n",
       "      <td>0.0</td>\n",
       "      <td>1.0</td>\n",
       "    </tr>\n",
       "    <tr>\n",
       "      <th>3</th>\n",
       "      <td>0.0</td>\n",
       "      <td>1.0</td>\n",
       "      <td>0.0</td>\n",
       "    </tr>\n",
       "    <tr>\n",
       "      <th>4</th>\n",
       "      <td>0.0</td>\n",
       "      <td>0.0</td>\n",
       "      <td>1.0</td>\n",
       "    </tr>\n",
       "  </tbody>\n",
       "</table>\n",
       "</div>"
      ],
      "text/plain": [
       "   Label Encoding_0  Label Encoding_1  Label Encoding_2\n",
       "0               0.0               1.0               0.0\n",
       "1               1.0               0.0               0.0\n",
       "2               0.0               0.0               1.0\n",
       "3               0.0               1.0               0.0\n",
       "4               0.0               0.0               1.0"
      ]
     },
     "execution_count": 14,
     "metadata": {},
     "output_type": "execute_result"
    }
   ],
   "source": [
    "onehot_df"
   ]
  },
  {
   "cell_type": "code",
   "execution_count": 15,
   "id": "6b1f6de2",
   "metadata": {},
   "outputs": [],
   "source": [
    "data2 = pd.concat([data2, onehot_df], axis = 1)"
   ]
  },
  {
   "cell_type": "markdown",
   "id": "496d7ddd",
   "metadata": {},
   "source": [
    "### 기초통계"
   ]
  },
  {
   "cell_type": "code",
   "execution_count": 16,
   "id": "ce2a4a19",
   "metadata": {},
   "outputs": [
    {
     "name": "stderr",
     "output_type": "stream",
     "text": [
      "c:\\project\\py_project\\.venv\\Lib\\site-packages\\IPython\\core\\pylabtools.py:170: UserWarning: Glyph 8722 (\\N{MINUS SIGN}) missing from font(s) Malgun Gothic.\n",
      "  fig.canvas.print_figure(bytes_io, **kw)\n"
     ]
    },
    {
     "data": {
      "image/png": "[encoded data removed]",
      "text/plain": [
       "<Figure size 640x480 with 1 Axes>"
      ]
     },
     "metadata": {},
     "output_type": "display_data"
    },
    {
     "name": "stdout",
     "output_type": "stream",
     "text": [
      "왜도 (Skewness): 0.1041\n",
      "첨도 (Kurtosis): 0.0133\n"
     ]
    }
   ],
   "source": [
    "import numpy as np\n",
    "import pandas as pd\n",
    "import matplotlib.pyplot as plt\n",
    "import matplotlib as mpl\n",
    "from scipy.stats import skew, kurtosis\n",
    "\n",
    "# 정규분포 데이터 생성 (평균=0, 표준편차=1, 1000개 샘플)\n",
    "data = np.random.normal(loc=0, scale=1, size=1000)\n",
    "\n",
    "# 데이터프레임으로 변환 (선택사항)\n",
    "df = pd.DataFrame(data, columns=['값'])\n",
    "\n",
    "# 한글 폰트 설정\n",
    "plt.rcParams['font.family'] = 'Malgun Gothic'\n",
    "\n",
    "# 정규분포 히스토그램 시각화\n",
    "plt.hist(df['값'], bins=30, edgecolor='black', alpha=0.7)\n",
    "plt.title('정규분포 히스토그램')\n",
    "plt.xlabel('값')\n",
    "plt.ylabel('빈도수')\n",
    "plt.grid(True)\n",
    "plt.show()\n",
    "\n",
    "# 왜도(Skewness) 계산\n",
    "skewness = skew(df['값'])\n",
    "print(f\"왜도 (Skewness): {skewness:.4f}\")\n",
    "\n",
    "# 첨도(Kurtosis) 계산\n",
    "kurt= kurtosis(df['값'])  # Fisher 방식 (정규분포면 0이 나옴)\n",
    "print(f\"첨도 (Kurtosis): {kurt:.4f}\")"
   ]
  },
  {
   "cell_type": "markdown",
   "id": "8423f14f",
   "metadata": {},
   "source": [
    "### 데이터의 병합\n"
   ]
  },
  {
   "cell_type": "code",
   "execution_count": 17,
   "id": "b13202ce",
   "metadata": {},
   "outputs": [],
   "source": [
    "# 고객 정보 데이터프레임\n",
    "customers = pd.DataFrame({\n",
    "    'customer_id': [1, 2, 3],\n",
    "    'name': ['Alice', 'Bob', 'Charlie']\n",
    " })\n",
    " # 주문 정보 데이터프레임\n",
    "orders = pd.DataFrame({\n",
    "    'order_id': [101, 102, 103],\n",
    "    'customer_id': [1, 2, 4],\n",
    "    'product': ['Laptop', 'Tablet', 'Smartphone']\n",
    "})"
   ]
  },
  {
   "cell_type": "code",
   "execution_count": 18,
   "id": "772ab742",
   "metadata": {},
   "outputs": [
    {
     "name": "stdout",
     "output_type": "stream",
     "text": [
      "   customer_id     name\n",
      "0            1    Alice\n",
      "1            2      Bob\n",
      "2            3  Charlie\n",
      "   order_id  customer_id     product\n",
      "0       101            1      Laptop\n",
      "1       102            2      Tablet\n",
      "2       103            4  Smartphone\n"
     ]
    }
   ],
   "source": [
    "print(customers)\n",
    "print(orders)"
   ]
  },
  {
   "cell_type": "code",
   "execution_count": 19,
   "id": "40bb4e2e",
   "metadata": {},
   "outputs": [
    {
     "name": "stdout",
     "output_type": "stream",
     "text": [
      "Inner Join:\n",
      "    customer_id   name  order_id product\n",
      "0            1  Alice       101  Laptop\n",
      "1            2    Bob       102  Tablet\n",
      "\n",
      "Left Join:\n",
      "    customer_id     name  order_id product\n",
      "0            1    Alice     101.0  Laptop\n",
      "1            2      Bob     102.0  Tablet\n",
      "2            3  Charlie       NaN     NaN\n"
     ]
    }
   ],
   "source": [
    "# Inner Join (공통된 customer_id로만 합침)\n",
    "# 아마도 1,2 만 붙을 것 같다.\n",
    "result_inner = pd.merge(customers, orders, on='customer_id', how='inner')\n",
    "# Left Join (customers 데이터프레임의 모든 값 유지)\n",
    "result_left = pd.merge(customers, orders, on='customer_id', how='left')\n",
    "# 결과 출력\n",
    "print(\"Inner Join:\\n\", result_inner)\n",
    "print(\"\\nLeft Join:\\n\", result_left)"
   ]
  },
  {
   "cell_type": "code",
   "execution_count": 20,
   "id": "c25758aa",
   "metadata": {},
   "outputs": [
    {
     "name": "stdout",
     "output_type": "stream",
     "text": [
      "   customer_id   name  order_id     product\n",
      "0            1  Alice       101      Laptop\n",
      "1            2    Bob       102      Tablet\n",
      "2            4    NaN       103  Smartphone\n"
     ]
    }
   ],
   "source": [
    "result_right = pd.merge(customers, orders, on='customer_id', how='right')\n",
    "print(result_right)"
   ]
  },
  {
   "cell_type": "code",
   "execution_count": null,
   "id": "657103a9",
   "metadata": {},
   "outputs": [],
   "source": []
  },
  {
   "cell_type": "code",
   "execution_count": null,
   "id": "6b3e962a",
   "metadata": {},
   "outputs": [],
   "source": []
  },
  {
   "cell_type": "code",
   "execution_count": null,
   "id": "c04e5af7",
   "metadata": {},
   "outputs": [],
   "source": []
  }
 ],
 "metadata": {
  "kernelspec": {
   "display_name": ".venv",
   "language": "python",
   "name": "python3"
  },
  "language_info": {
   "codemirror_mode": {
    "name": "ipython",
    "version": 3
   },
   "file_extension": ".py",
   "mimetype": "text/x-python",
   "name": "python",
   "nbconvert_exporter": "python",
   "pygments_lexer": "ipython3",
   "version": "3.13.4"
  }
 },
 "nbformat": 4,
 "nbformat_minor": 5
}
