{
 "cells": [
  {
   "cell_type": "markdown",
   "id": "304fe6ea",
   "metadata": {},
   "source": [
    "- 비지도학습 이어서."
   ]
  },
  {
   "cell_type": "code",
   "execution_count": null,
   "id": "d0346a0c",
   "metadata": {},
   "outputs": [],
   "source": []
  }
 ],
 "metadata": {
  "kernelspec": {
   "display_name": ".venv",
   "language": "python",
   "name": "python3"
  },
  "language_info": {
   "name": "python",
   "version": "3.13.4"
  }
 },
 "nbformat": 4,
 "nbformat_minor": 5
}
