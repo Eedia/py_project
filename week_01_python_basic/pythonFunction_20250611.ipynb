{
 "cells": [
  {
   "cell_type": "code",
   "execution_count": 1,
   "id": "f895e66d",
   "metadata": {},
   "outputs": [],
   "source": [
    "## 1450분 부터 이어서\n",
    "## 내장함수.."
   ]
  },
  {
   "cell_type": "code",
   "execution_count": 9,
   "id": "a94e075e",
   "metadata": {},
   "outputs": [],
   "source": [
    "# 파이썬의 입출력 (자원)\n",
    "# 표준 입출력 => input, print\n",
    "# text 파일(자원)   : 입출력 I/O \n",
    "# 파일 단위 입출력 : open(자원의 경로,모드) 모드 => r(read), w(write), a(append)\n",
    "\n",
    "f = open(\"new_file.txt\", 'w', encoding=\"utf-8\")\n",
    "for i in range(1,11):\n",
    "    f.write(f\"{i} 번쨰 줄입니다\\n\")\n",
    "f.close()\n",
    "\n"
   ]
  },
  {
   "cell_type": "code",
   "execution_count": 14,
   "id": "3f336c1d",
   "metadata": {},
   "outputs": [
    {
     "name": "stdout",
     "output_type": "stream",
     "text": [
      "1 번쨰 줄입니다\n",
      "2 번쨰 줄입니다\n",
      "3 번쨰 줄입니다\n",
      "4 번쨰 줄입니다\n",
      "5 번쨰 줄입니다\n",
      "6 번쨰 줄입니다\n",
      "7 번쨰 줄입니다\n",
      "8 번쨰 줄입니다\n",
      "9 번쨰 줄입니다\n",
      "10 번쨰 줄입니다\n"
     ]
    }
   ],
   "source": [
    "f = open(\"new_file.txt\", 'r', encoding=\"utf-8\")\n",
    "\n",
    "while True:\n",
    "    line = f.readline()\n",
    "    if (line == \"\"): # if not line:\n",
    "        break\n",
    "    print(line, end ='')\n",
    "    \n",
    "f.close()\n"
   ]
  },
  {
   "cell_type": "code",
   "execution_count": 23,
   "id": "2b6cfd87",
   "metadata": {},
   "outputs": [
    {
     "name": "stdout",
     "output_type": "stream",
     "text": [
      "1 번쨰 줄입니다\n",
      "2 번쨰 줄입니다\n",
      "3 번쨰 줄입니다\n",
      "4 번쨰 줄입니다\n",
      "5 번쨰 줄입니다\n",
      "6 번쨰 줄입니다\n",
      "7 번쨰 줄입니다\n",
      "8 번쨰 줄입니다\n",
      "9 번쨰 줄입니다\n",
      "10 번쨰 줄입니다\n",
      "라인 추가~ 11, end='\n",
      "라인 추가~ 13"
     ]
    }
   ],
   "source": [
    "f = open(\"new_file.txt\", 'r', encoding=\"utf-8\")\n",
    "lines = f.readlines() # 리스트를 반환한다.\n",
    "for line in lines:\n",
    "    print(line, end= '')\n",
    "f.close()"
   ]
  },
  {
   "cell_type": "code",
   "execution_count": 30,
   "id": "943c6752",
   "metadata": {},
   "outputs": [],
   "source": [
    "# append : 데이터 추가\n",
    "f = open(\"new_file.txt\", 'a', encoding=\"utf-8\")\n",
    "i = i+1\n",
    "f.write(f\"라인 추가~ {i}\\n\")\n",
    "\n",
    "f.close()"
   ]
  },
  {
   "cell_type": "code",
   "execution_count": 32,
   "id": "6795183b",
   "metadata": {},
   "outputs": [
    {
     "name": "stdout",
     "output_type": "stream",
     "text": [
      "1 번쨰 줄입니다\n",
      "2 번쨰 줄입니다\n",
      "3 번쨰 줄입니다\n",
      "4 번쨰 줄입니다\n",
      "5 번쨰 줄입니다\n",
      "6 번쨰 줄입니다\n",
      "7 번쨰 줄입니다\n",
      "8 번쨰 줄입니다\n",
      "9 번쨰 줄입니다\n",
      "10 번쨰 줄입니다\n",
      "라인 추가~ 11, end='\n",
      "라인 추가~ 13라인 추가~ 14라인 추가~ 15라인 추가~ 16\n",
      "라인 추가~ 17\n",
      "라인 추가~ 18\n",
      "라인 추가~ 19\n"
     ]
    }
   ],
   "source": [
    "f = open(\"new_file.txt\", 'r', encoding=\"utf-8\")\n",
    "lines = f.readlines() # 리스트를 반환한다.\n",
    "for line in lines:\n",
    "    print(line, end= '')\n",
    "f.close()"
   ]
  },
  {
   "cell_type": "code",
   "execution_count": 34,
   "id": "64f4c99e",
   "metadata": {},
   "outputs": [
    {
     "name": "stdout",
     "output_type": "stream",
     "text": [
      "['1 번쨰 줄입니다\\n', '2 번쨰 줄입니다\\n', '3 번쨰 줄입니다\\n', '4 번쨰 줄입니다\\n', '5 번쨰 줄입니다\\n', '6 번쨰 줄입니다\\n', '7 번쨰 줄입니다\\n', '8 번쨰 줄입니다\\n', '9 번쨰 줄입니다\\n', '10 번쨰 줄입니다\\n', \"라인 추가~ 11, end='\\n\", '라인 추가~ 13라인 추가~ 14라인 추가~ 15라인 추가~ 16\\n', '라인 추가~ 17\\n', '라인 추가~ 18\\n', '라인 추가~ 19\\n']\n"
     ]
    }
   ],
   "source": [
    "# close 생략 가능한 구현 => with\n",
    "with open(\"new_file.txt\", 'r', encoding='utf-8') as file:\n",
    "    lines = file.readlines()\n",
    "    print(lines)\n"
   ]
  },
  {
   "cell_type": "code",
   "execution_count": 35,
   "id": "e04d081c",
   "metadata": {},
   "outputs": [
    {
     "name": "stdout",
     "output_type": "stream",
     "text": [
      "hello\n",
      "error!\n",
      "finally\n"
     ]
    }
   ],
   "source": [
    "# try : execpt: finally : -> 에러 발생여부와 상관없이 실행되어야 하는 블로\n",
    "try:\n",
    "    print('hello')\n",
    "    print(10/0)\n",
    "except:\n",
    "    print(\"error!\")\n",
    "finally:\n",
    "    print(\"finally\")"
   ]
  },
  {
   "cell_type": "code",
   "execution_count": null,
   "id": "068b7c24",
   "metadata": {},
   "outputs": [
    {
     "name": "stdout",
     "output_type": "stream",
     "text": [
      "숫자형식으로 입력해주세요\n"
     ]
    }
   ],
   "source": [
    "try:\n",
    "    age = int(input('나이를 입력하세요 : '))\n",
    "except:\n",
    "    print('숫자형식으로 입력해주세요')\n",
    "else :\n",
    "    if age > 18 :\n",
    "        print('입장')\n",
    "    else:\n",
    "        print('불가')"
   ]
  },
  {
   "cell_type": "code",
   "execution_count": 40,
   "id": "1cd9d90a",
   "metadata": {},
   "outputs": [],
   "source": [
    "# 사용자 정의 예외 타입 정의\n",
    "# 논리적인 오류 발생 -> 예외로 처리 \n",
    "# age => 음수, 500 : 논리적 오류\n",
    "\n",
    "class MyError(Exception):\n",
    "    pass"
   ]
  },
  {
   "cell_type": "code",
   "execution_count": 41,
   "id": "8cb8da8d",
   "metadata": {},
   "outputs": [
    {
     "ename": "MyError",
     "evalue": "사용자 정의 에러 발생",
     "output_type": "error",
     "traceback": [
      "\u001b[31m---------------------------------------------------------------------------\u001b[39m",
      "\u001b[31mMyError\u001b[39m                                   Traceback (most recent call last)",
      "\u001b[36mCell\u001b[39m\u001b[36m \u001b[39m\u001b[32mIn[41]\u001b[39m\u001b[32m, line 3\u001b[39m\n\u001b[32m      1\u001b[39m \u001b[38;5;66;03m# 에러 강제 발생\u001b[39;00m\n\u001b[32m      2\u001b[39m \u001b[38;5;66;03m# raise : 에러 강제 발생\u001b[39;00m\n\u001b[32m----> \u001b[39m\u001b[32m3\u001b[39m \u001b[38;5;28;01mraise\u001b[39;00m MyError(\u001b[33m\"\u001b[39m\u001b[33m사용자 정의 에러 발생\u001b[39m\u001b[33m\"\u001b[39m)\n",
      "\u001b[31mMyError\u001b[39m: 사용자 정의 에러 발생"
     ]
    }
   ],
   "source": [
    "# 에러 강제 발생\n",
    "# raise : 에러 강제 발생\n",
    "raise MyError(\"사용자 정의 에러 발생\")\n"
   ]
  },
  {
   "cell_type": "code",
   "execution_count": 45,
   "id": "4a66ae57",
   "metadata": {},
   "outputs": [
    {
     "name": "stdout",
     "output_type": "stream",
     "text": [
      "사용자 정의 에러 발생: 나이는 1이상 500이하로 입력해주세요\n"
     ]
    }
   ],
   "source": [
    "try:\n",
    "    age = int(input('나이를 입력하세요 : '))\n",
    "    if age < 1 or age > 500:\n",
    "        raise MyError()\n",
    "\n",
    "except MyError :\n",
    "    print(\"사용자 정의 에러 발생: 나이는 1이상 500이하로 입력해주세요\")\n",
    "except:\n",
    "    print(\"다시 입력하세요.\")\n",
    "else:\n",
    "    print(age)"
   ]
  },
  {
   "cell_type": "code",
   "execution_count": 46,
   "id": "df374509",
   "metadata": {
    "vscode": {
     "languageId": "markdown"
    }
   },
   "outputs": [],
   "source": [
    "## 다음시간은 객체지향 관련 내용과 클래스에 대해 알아볼 예정 "
   ]
  }
 ],
 "metadata": {
  "kernelspec": {
   "display_name": ".venv",
   "language": "python",
   "name": "python3"
  },
  "language_info": {
   "codemirror_mode": {
    "name": "ipython",
    "version": 3
   },
   "file_extension": ".py",
   "mimetype": "text/x-python",
   "name": "python",
   "nbconvert_exporter": "python",
   "pygments_lexer": "ipython3",
   "version": "3.13.4"
  }
 },
 "nbformat": 4,
 "nbformat_minor": 5
}
