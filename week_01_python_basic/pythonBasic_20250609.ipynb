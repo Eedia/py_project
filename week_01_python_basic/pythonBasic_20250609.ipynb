{
 "cells": [
  {
   "cell_type": "code",
   "execution_count": 2,
   "id": "693d1738",
   "metadata": {},
   "outputs": [
    {
     "name": "stdout",
     "output_type": "stream",
     "text": [
      "안녕하세요\n",
      "100\n"
     ]
    }
   ],
   "source": [
    "print('안녕하세요')\n",
    "print(100)"
   ]
  },
  {
   "cell_type": "code",
   "execution_count": 2,
   "id": "a5707f8b",
   "metadata": {},
   "outputs": [],
   "source": [
    "# 변수 => 데이터를 저장 (메모리 : 플레시메모리) 하는 방식\n",
    "# 변수이름 (식별자) = 값(데이터 : 숫자, 문자열, 논리값, 객체)\n",
    "# 변수에는 데이터를 저장하고 있는 메모리의 주소값을 저장\n",
    "num = 10"
   ]
  },
  {
   "cell_type": "code",
   "execution_count": 4,
   "id": "def0679a",
   "metadata": {},
   "outputs": [
    {
     "name": "stdout",
     "output_type": "stream",
     "text": [
      "10\n"
     ]
    }
   ],
   "source": [
    "print(num)"
   ]
  },
  {
   "cell_type": "code",
   "execution_count": 5,
   "id": "7ee6a1a8",
   "metadata": {},
   "outputs": [
    {
     "data": {
      "text/plain": [
       "140730591233224"
      ]
     },
     "execution_count": 5,
     "metadata": {},
     "output_type": "execute_result"
    }
   ],
   "source": [
    "id(num)"
   ]
  },
  {
   "cell_type": "code",
   "execution_count": 8,
   "id": "63a7a815",
   "metadata": {},
   "outputs": [],
   "source": [
    "# 변수 = 데이터\n",
    "# 데이터 => 숫자, 문자, 논리값\n",
    "# 숫자 => 정수, 실수\n",
    "\n",
    "num1 = 10\n",
    "num2 = 3.14"
   ]
  },
  {
   "cell_type": "code",
   "execution_count": 14,
   "id": "82d1b5fc",
   "metadata": {},
   "outputs": [
    {
     "data": {
      "text/plain": [
       "int"
      ]
     },
     "execution_count": 14,
     "metadata": {},
     "output_type": "execute_result"
    }
   ],
   "source": [
    "type(num1)"
   ]
  },
  {
   "cell_type": "code",
   "execution_count": 15,
   "id": "ef6e6082",
   "metadata": {},
   "outputs": [
    {
     "data": {
      "text/plain": [
       "float"
      ]
     },
     "execution_count": 15,
     "metadata": {},
     "output_type": "execute_result"
    }
   ],
   "source": [
    "type(num2)"
   ]
  },
  {
   "cell_type": "code",
   "execution_count": 16,
   "id": "2a292571",
   "metadata": {},
   "outputs": [],
   "source": [
    "num3 = 'hello~'"
   ]
  },
  {
   "cell_type": "code",
   "execution_count": 18,
   "id": "f825eaff",
   "metadata": {},
   "outputs": [
    {
     "name": "stdout",
     "output_type": "stream",
     "text": [
      "<class 'str'>\n"
     ]
    }
   ],
   "source": [
    "print(type(num3))"
   ]
  },
  {
   "cell_type": "code",
   "execution_count": 1,
   "id": "25bb4d22",
   "metadata": {},
   "outputs": [],
   "source": [
    "# 논리값 : 참, 거짓 => True, False\n",
    "check1 = True\n",
    "check2 = False"
   ]
  },
  {
   "cell_type": "code",
   "execution_count": 4,
   "id": "fe08b16a",
   "metadata": {},
   "outputs": [
    {
     "name": "stdout",
     "output_type": "stream",
     "text": [
      "True <class 'bool'>\n",
      "False <class 'bool'>\n"
     ]
    }
   ],
   "source": [
    "print(check1, type(check1))\n",
    "print(check2, type(check2))"
   ]
  },
  {
   "cell_type": "code",
   "execution_count": 6,
   "id": "7833b51a",
   "metadata": {},
   "outputs": [],
   "source": [
    "str_a = 'python'"
   ]
  },
  {
   "cell_type": "code",
   "execution_count": 9,
   "id": "bbeca70e",
   "metadata": {},
   "outputs": [
    {
     "data": {
      "text/plain": [
       "'PYTHON'"
      ]
     },
     "execution_count": 9,
     "metadata": {},
     "output_type": "execute_result"
    }
   ],
   "source": [
    "str_a.upper()\n",
    "# 주소값.메서드()"
   ]
  },
  {
   "cell_type": "code",
   "execution_count": 11,
   "id": "181fc54c",
   "metadata": {},
   "outputs": [],
   "source": [
    "str_a = 100"
   ]
  },
  {
   "cell_type": "code",
   "execution_count": 12,
   "id": "0d0091c0",
   "metadata": {},
   "outputs": [],
   "source": [
    "# 문자열 생성\n",
    "str_1 = 'hello~'\n",
    "str_2 = \"안녕하세요\"\n",
    "str_3 = ''' 첫째 라인인\n",
    "개행을 해도 \n",
    "문제\n",
    "가\n",
    "없다.\n",
    "'''\n",
    "str_4 = \"\"\" 큰 따움 표\n",
    "이것도 마찬가지!\n",
    "\"\"\""
   ]
  },
  {
   "cell_type": "code",
   "execution_count": 14,
   "id": "12f57047",
   "metadata": {},
   "outputs": [
    {
     "data": {
      "text/plain": [
       "6"
      ]
     },
     "execution_count": 14,
     "metadata": {},
     "output_type": "execute_result"
    }
   ],
   "source": [
    "# 함수 (기능) : 데이터 전달하면 -> 처리(연산) -> 값을 반환\n",
    "# 문자열의 길이 반환 함수 : len(변수 : 시퀀스형식의 데이터)\n",
    "len(str_1)"
   ]
  },
  {
   "cell_type": "code",
   "execution_count": 16,
   "id": "3da6ced2",
   "metadata": {},
   "outputs": [],
   "source": [
    "# 문자열 : 시퀀스 데이터 => 순서 o\n",
    "# 시퀀스 데이터의 데이터들의 구분 => index 값\n",
    "# hello => ['h', 'e', 'l', 'l', 'o']\n",
    "\n",
    "str_5 = 'hello~ python!!'"
   ]
  },
  {
   "cell_type": "code",
   "execution_count": 18,
   "id": "38e66c30",
   "metadata": {},
   "outputs": [
    {
     "data": {
      "text/plain": [
       "'o'"
      ]
     },
     "execution_count": 18,
     "metadata": {},
     "output_type": "execute_result"
    }
   ],
   "source": [
    "str_5[4]"
   ]
  },
  {
   "cell_type": "code",
   "execution_count": 20,
   "id": "b6460ac4",
   "metadata": {},
   "outputs": [
    {
     "data": {
      "text/plain": [
       "'hello'"
      ]
     },
     "execution_count": 20,
     "metadata": {},
     "output_type": "execute_result"
    }
   ],
   "source": [
    "# 문자열(시퀀스)의 슬라이싱\n",
    "# s[시작 index :종료 index] => 종료 index값을 만나면 탈출\n",
    "# str_5[0:5]\n",
    "str_5[0:5]"
   ]
  },
  {
   "cell_type": "code",
   "execution_count": 23,
   "id": "b0820325",
   "metadata": {},
   "outputs": [
    {
     "name": "stdout",
     "output_type": "stream",
     "text": [
      "안녕하세요 저는 손흥민 입니다, 나이는 30 입니다.\n"
     ]
    }
   ],
   "source": [
    "# 문자열 포맷팅\n",
    "# 3.6 버전 이후 f\"\", 접두사 f 붙이고 포맷팅\n",
    "user_name = '손흥민'\n",
    "user_age = 30\n",
    "print(f'안녕하세요 저는 {user_name} 입니다, 나이는 {user_age} 입니다.')"
   ]
  },
  {
   "cell_type": "code",
   "execution_count": 25,
   "id": "66c2122e",
   "metadata": {},
   "outputs": [
    {
     "name": "stdout",
     "output_type": "stream",
     "text": [
      "내년에는 나이가 31 살이 됩니다. \n"
     ]
    }
   ],
   "source": [
    "print(f'내년에는 나이가 {user_age+1} 살이 됩니다. ')"
   ]
  },
  {
   "cell_type": "code",
   "execution_count": 28,
   "id": "5b94a9f1",
   "metadata": {},
   "outputs": [],
   "source": [
    "num =1 "
   ]
  },
  {
   "cell_type": "code",
   "execution_count": 29,
   "id": "76fe0919",
   "metadata": {},
   "outputs": [
    {
     "name": "stdout",
     "output_type": "stream",
     "text": [
      "2\n"
     ]
    }
   ],
   "source": [
    "num = num + 1\n",
    "\n",
    "print(num)"
   ]
  },
  {
   "cell_type": "code",
   "execution_count": 39,
   "id": "39615bb6",
   "metadata": {},
   "outputs": [
    {
     "name": "stdout",
     "output_type": "stream",
     "text": [
      "12\n"
     ]
    }
   ],
   "source": [
    "num +=1\n",
    "print(num)"
   ]
  },
  {
   "cell_type": "markdown",
   "id": "bab404e8",
   "metadata": {},
   "source": [
    "## 연습문제 1 \n",
    "### 과목별 점수의 총합과 평균 및 총점과 평균 출력"
   ]
  },
  {
   "cell_type": "code",
   "execution_count": 49,
   "id": "553d83cb",
   "metadata": {},
   "outputs": [
    {
     "name": "stdout",
     "output_type": "stream",
     "text": [
      "\n",
      "[과목별 점수]\n",
      "국어: 91, 영어: 84, 수학: 76\n",
      "[총점과 평균]\n",
      "총점: 251\n",
      "평균: 83.67\n"
     ]
    }
   ],
   "source": [
    "# 국어, 영어, 수학 점수의 총합과 평균을 구하고 각 과목의 점수와 총점, 평균을 출력해보자\n",
    "\n",
    "def get_score(subject):\n",
    "    while True:\n",
    "        try:\n",
    "            score = int(input(f\"{subject} 점수 입력: \"))\n",
    "            if 0 <= score <= 100:\n",
    "                return score\n",
    "            else:\n",
    "                print(\"0~100 사이의 점수를 입력하세요.\")\n",
    "        except ValueError:\n",
    "            print(\"숫자로 입력해주세요.\")\n",
    "\n",
    "# 입력 받기\n",
    "kor = get_score(\"국어\")\n",
    "eng = get_score(\"영어\")\n",
    "math = get_score(\"수학\")\n",
    "\n",
    "# 계산\n",
    "total = kor + eng + math\n",
    "avg = total / 3\n",
    "\n",
    "# 출력\n",
    "print(f\"\\n[과목별 점수]\")\n",
    "print(f\"국어: {kor}, 영어: {eng}, 수학: {math}\")\n",
    "print(f\"[총점과 평균]\")\n",
    "print(f\"총점: {total}\")\n",
    "print(f\"평균: {avg:.2f}\")\n",
    "\n"
   ]
  },
  {
   "cell_type": "markdown",
   "id": "6ea4a4e5",
   "metadata": {},
   "source": [
    "## 연습문제 2\n",
    "### 성별이 남성이고 18세 이상의 성인 여부를 판단하는 조건식"
   ]
  },
  {
   "cell_type": "code",
   "execution_count": 48,
   "id": "04f5b43d",
   "metadata": {},
   "outputs": [
    {
     "name": "stdout",
     "output_type": "stream",
     "text": [
      "성인 남성이 아닙니다.\n"
     ]
    }
   ],
   "source": [
    "# 성별이 남성이고 18세 이상의 성인 여부를 판단하는 조건식\n",
    "# 배웠던 것들 최대한 활용.\n",
    "\n",
    "# 성별과 나이 입력 받기\n",
    "gender = input(\"성별을 입력하세요 (male/female): \").strip().lower()\n",
    "\n",
    "while True:\n",
    "    try:\n",
    "        age = int(input(\"나이를 입력하세요: \"))\n",
    "        break\n",
    "    except ValueError:\n",
    "        print(\"숫자로 입력해 주세염\")\n",
    "    \n",
    "# 조건 판단\n",
    "if gender == \"male\" and age >= 18:\n",
    "    print(\"성인 남성입니다.\")\n",
    "else:\n",
    "    print(\"성인 남성이 아닙니다.\")\n"
   ]
  },
  {
   "cell_type": "code",
   "execution_count": 53,
   "id": "abd64728",
   "metadata": {},
   "outputs": [],
   "source": [
    "# 리스트 : [] => 순서를 가지는 데이터 묶음\n",
    "# index 값으로 요소들을 참조 => 0~ N (요소의 개수)\n",
    "list_a = [1,2,3,4,5]"
   ]
  },
  {
   "cell_type": "code",
   "execution_count": 54,
   "id": "c6f66872",
   "metadata": {},
   "outputs": [],
   "source": [
    "# bool(), int()m float(), str(),list()"
   ]
  },
  {
   "cell_type": "code",
   "execution_count": 57,
   "id": "5e848c5a",
   "metadata": {},
   "outputs": [
    {
     "name": "stdout",
     "output_type": "stream",
     "text": [
      "[1, 2, 4, 4, 5]\n"
     ]
    }
   ],
   "source": [
    "# 요소의 참조\n",
    "list_a[2] = 4\n",
    "\n",
    "print(list_a)"
   ]
  }
 ],
 "metadata": {
  "kernelspec": {
   "display_name": ".venv",
   "language": "python",
   "name": "python3"
  },
  "language_info": {
   "codemirror_mode": {
    "name": "ipython",
    "version": 3
   },
   "file_extension": ".py",
   "mimetype": "text/x-python",
   "name": "python",
   "nbconvert_exporter": "python",
   "pygments_lexer": "ipython3",
   "version": "3.13.4"
  }
 },
 "nbformat": 4,
 "nbformat_minor": 5
}
