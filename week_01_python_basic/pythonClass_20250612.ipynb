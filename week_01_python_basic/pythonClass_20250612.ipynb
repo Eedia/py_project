{
 "cells": [
  {
   "cell_type": "code",
   "execution_count": 7,
   "id": "b67fab59",
   "metadata": {},
   "outputs": [],
   "source": [
    "# 사칙연산을 하는 클래스 정의 : 클래스 이름, 변수, 함수\n",
    "# 변수는 두개, 함수(메서드) 4개\n",
    "\n",
    "class FourCal:\n",
    "    \n",
    "    # 초기화 메서드\n",
    "    def __init__(self, first, second):\n",
    "        # 클래스의 인스턴스 변수\n",
    "        self.first = first\n",
    "        self.second = second \n",
    "    \n",
    "    # 클래스에서 함수를 정의할 때에는 반드시 self 매개변수를 받아야 한다\n",
    "    # self는 인스턴스 자신을 의미한다\n",
    "    # => 객체 지시를 가르키는 변수 (객체의 주소)\n",
    "    def setdata(self, first, second):\n",
    "        self.first = first\n",
    "        self.second = second"
   ]
  },
  {
   "cell_type": "code",
   "execution_count": null,
   "id": "82ae76ca",
   "metadata": {},
   "outputs": [],
   "source": []
  },
  {
   "cell_type": "code",
   "execution_count": 2,
   "id": "ab3ffa72",
   "metadata": {},
   "outputs": [],
   "source": [
    "cal_1 = FourCal()"
   ]
  },
  {
   "cell_type": "code",
   "execution_count": 3,
   "id": "2204feca",
   "metadata": {},
   "outputs": [],
   "source": [
    "cal_1.setdata(4, 2)"
   ]
  },
  {
   "cell_type": "code",
   "execution_count": 4,
   "id": "05608574",
   "metadata": {},
   "outputs": [
    {
     "name": "stdout",
     "output_type": "stream",
     "text": [
      "4\n",
      "2\n"
     ]
    }
   ],
   "source": [
    "print(cal_1.first)  # 4\n",
    "print(cal_1.second)  # 2"
   ]
  },
  {
   "cell_type": "code",
   "execution_count": 5,
   "id": "86a2e027",
   "metadata": {},
   "outputs": [],
   "source": [
    "cal_2 = FourCal()"
   ]
  },
  {
   "cell_type": "code",
   "execution_count": 6,
   "id": "2ca41630",
   "metadata": {},
   "outputs": [
    {
     "ename": "AttributeError",
     "evalue": "'FourCal' object has no attribute 'first'",
     "output_type": "error",
     "traceback": [
      "\u001b[31m---------------------------------------------------------------------------\u001b[39m",
      "\u001b[31mAttributeError\u001b[39m                            Traceback (most recent call last)",
      "\u001b[36mCell\u001b[39m\u001b[36m \u001b[39m\u001b[32mIn[6]\u001b[39m\u001b[32m, line 1\u001b[39m\n\u001b[32m----> \u001b[39m\u001b[32m1\u001b[39m \u001b[43mcal_2\u001b[49m\u001b[43m.\u001b[49m\u001b[43mfirst\u001b[49m\n",
      "\u001b[31mAttributeError\u001b[39m: 'FourCal' object has no attribute 'first'"
     ]
    }
   ],
   "source": [
    "cal_2.first"
   ]
  },
  {
   "cell_type": "code",
   "execution_count": 8,
   "id": "6df98586",
   "metadata": {},
   "outputs": [],
   "source": [
    "# 학생 class 생성 -> 객체 생성\n",
    "# 변수: 학번, 이름, 국어점수, 영어점수, 수학점수\n",
    "# 기능: 전체 데이터 출력하는 메서드 (이름, 학번, 총점, 평균ㄴㄴ)\n",
    "#   총점 계산\n",
    "#   평균 계산\n",
    "\n",
    "class Student:\n",
    "    def __init__(self, student_id, name, korean_score, english_score, math_score):\n",
    "        self.student_id = student_id\n",
    "        self.name = name\n",
    "        self.korean_score = korean_score\n",
    "        self.english_score = english_score\n",
    "        self.math_score = math_score\n",
    "\n",
    "    def total_score(self):\n",
    "        return self.korean_score + self.english_score + self.math_score\n",
    "\n",
    "    def average_score(self):\n",
    "        return self.total_score() / 3\n",
    "\n",
    "    def display_info(self):\n",
    "        print(f\"학번: {self.student_id}, 이름: {self.name}, 총점: {self.total_score()}, 평균: {self.average_score():.2f}\")\n"
   ]
  },
  {
   "cell_type": "code",
   "execution_count": 9,
   "id": "d9d4c14d",
   "metadata": {},
   "outputs": [
    {
     "name": "stdout",
     "output_type": "stream",
     "text": [
      "학번: 2023001, 이름: 홍길동, 총점: 270, 평균: 90.00\n"
     ]
    }
   ],
   "source": [
    "student = Student(2023001, \"홍길동\", 85, 90, 95)\n",
    "student.display_info()  # 학번: 2023001, 이름: 홍길동, 총점: 270, 평균: 90.00"
   ]
  },
  {
   "cell_type": "markdown",
   "id": "f30ea9be",
   "metadata": {},
   "source": [
    "- 표준모듈 간단한 사용\n"
   ]
  },
  {
   "cell_type": "code",
   "execution_count": 1,
   "id": "74535296",
   "metadata": {},
   "outputs": [],
   "source": [
    "import datetime"
   ]
  },
  {
   "cell_type": "code",
   "execution_count": 12,
   "id": "f1f5fffd",
   "metadata": {},
   "outputs": [],
   "source": [
    "day1 = datetime.date(2025 , 6, 12)"
   ]
  },
  {
   "cell_type": "code",
   "execution_count": 8,
   "id": "091d1ae1",
   "metadata": {},
   "outputs": [
    {
     "name": "stdout",
     "output_type": "stream",
     "text": [
      "2025-06-12\n"
     ]
    }
   ],
   "source": [
    "print(day1)"
   ]
  },
  {
   "cell_type": "code",
   "execution_count": 13,
   "id": "430312a1",
   "metadata": {},
   "outputs": [],
   "source": [
    "day2 = datetime.date(2025 , 1, 11)"
   ]
  },
  {
   "cell_type": "code",
   "execution_count": 15,
   "id": "0a8b5076",
   "metadata": {},
   "outputs": [
    {
     "name": "stdout",
     "output_type": "stream",
     "text": [
      "152 days, 0:00:00\n"
     ]
    }
   ],
   "source": [
    "print(day1-day2)  # 152 days"
   ]
  },
  {
   "cell_type": "code",
   "execution_count": 16,
   "id": "a3146dfa",
   "metadata": {},
   "outputs": [],
   "source": [
    "import time"
   ]
  },
  {
   "cell_type": "code",
   "execution_count": null,
   "id": "39aa928b",
   "metadata": {},
   "outputs": [
    {
     "data": {
      "text/plain": [
       "1749711417.249818"
      ]
     },
     "execution_count": 18,
     "metadata": {},
     "output_type": "execute_result"
    }
   ],
   "source": [
    "time.time()  # 현재 시간을 초 단위로 반환"
   ]
  },
  {
   "cell_type": "code",
   "execution_count": null,
   "id": "681fb08d",
   "metadata": {},
   "outputs": [
    {
     "data": {
      "text/plain": [
       "6"
      ]
     },
     "execution_count": 23,
     "metadata": {},
     "output_type": "execute_result"
    }
   ],
   "source": [
    "time.localtime()  # 현재 시간을 struct_time 객체로 반환.\n",
    "\n",
    "time.localtime().tm_mon  # 현재 월      "
   ]
  },
  {
   "cell_type": "code",
   "execution_count": null,
   "id": "5a777132",
   "metadata": {},
   "outputs": [
    {
     "data": {
      "text/plain": [
       "'Thu Jun 12 15:59:19 2025'"
      ]
     },
     "execution_count": 29,
     "metadata": {},
     "output_type": "execute_result"
    }
   ],
   "source": [
    "time.ctime() # 현재 시간을 문자열로 반환"
   ]
  },
  {
   "cell_type": "code",
   "execution_count": null,
   "id": "b5f4dd24",
   "metadata": {},
   "outputs": [
    {
     "data": {
      "text/plain": [
       "'apple'"
      ]
     },
     "execution_count": 33,
     "metadata": {},
     "output_type": "execute_result"
    }
   ],
   "source": [
    "import random\n",
    "\n",
    "random.randint(1, 10)  # 1부터 10 사이의 정수 중 랜덤으로 하나 반환\n",
    "random.choice(['apple', 'banana', 'cherry'])  # 리스트에서 랜덤으로 하나 선택"
   ]
  },
  {
   "cell_type": "code",
   "execution_count": 34,
   "id": "de95e96a",
   "metadata": {},
   "outputs": [
    {
     "data": {
      "text/plain": [
       "0.45887241273506263"
      ]
     },
     "execution_count": 34,
     "metadata": {},
     "output_type": "execute_result"
    }
   ],
   "source": [
    "random.random()  # 0.0 이상 1.0 미만의 랜덤 실수 반환"
   ]
  },
  {
   "cell_type": "code",
   "execution_count": 101,
   "id": "0bf5f078",
   "metadata": {},
   "outputs": [
    {
     "data": {
      "text/plain": [
       "b'\\xcc\\x8c\\xdd'"
      ]
     },
     "execution_count": 101,
     "metadata": {},
     "output_type": "execute_result"
    }
   ],
   "source": [
    "random.randbytes(3)  # 5바이트 길이의 랜덤 바이트 문자열 반환"
   ]
  },
  {
   "cell_type": "code",
   "execution_count": 103,
   "id": "90ac52e3",
   "metadata": {},
   "outputs": [
    {
     "data": {
      "text/plain": [
       "'apple'"
      ]
     },
     "execution_count": 103,
     "metadata": {},
     "output_type": "execute_result"
    }
   ],
   "source": [
    "random.choice(['apple', 'banana', 'cherry'])  # 리스트에서 랜덤으로 하나 선택"
   ]
  },
  {
   "cell_type": "code",
   "execution_count": 120,
   "id": "df69dc1e",
   "metadata": {},
   "outputs": [
    {
     "data": {
      "text/plain": [
       "list"
      ]
     },
     "execution_count": 120,
     "metadata": {},
     "output_type": "execute_result"
    }
   ],
   "source": [
    "type(random.sample(['apple', 'banana', 'cherry'], 2))  # 리스트에서 랜덤으로 2개 선택"
   ]
  },
  {
   "cell_type": "code",
   "execution_count": null,
   "id": "207b6d1d",
   "metadata": {},
   "outputs": [],
   "source": [
    "import os"
   ]
  },
  {
   "cell_type": "code",
   "execution_count": 127,
   "id": "63ec60b5",
   "metadata": {},
   "outputs": [
    {
     "data": {
      "text/plain": [
       "'c:\\\\project\\\\py_project'"
      ]
     },
     "execution_count": 127,
     "metadata": {},
     "output_type": "execute_result"
    }
   ],
   "source": [
    "os.getcwd()  # 현재 프로세스의 ID 반환"
   ]
  },
  {
   "cell_type": "code",
   "execution_count": 128,
   "id": "4217a476",
   "metadata": {},
   "outputs": [],
   "source": [
    "import json"
   ]
  },
  {
   "cell_type": "code",
   "execution_count": null,
   "id": "f1e65e18",
   "metadata": {},
   "outputs": [
    {
     "name": "stdout",
     "output_type": "stream",
     "text": [
      "{'name': 'Ditto', 'age': 2, 'species': 'Transform '}\n"
     ]
    }
   ],
   "source": [
    "with open('data.json', 'r', encoding='utf-8') as f:\n",
    "    data = json.load(f)  # JSON 파일 읽기\n",
    "    print(data)"
   ]
  },
  {
   "cell_type": "code",
   "execution_count": null,
   "id": "ebc8af4a",
   "metadata": {},
   "outputs": [
    {
     "name": "stdout",
     "output_type": "stream",
     "text": [
      "<class 'str'>\n"
     ]
    }
   ],
   "source": [
    "json_str_data = json.dumps(data, ensure_ascii=False)  # JSON 문자열로 변환\n",
    "print(type(json_str_data))  # <class 'str'>\n",
    "# json은 규격이 있는 문자열일 뿐이다.\n"
   ]
  },
  {
   "cell_type": "markdown",
   "id": "91aa0654",
   "metadata": {},
   "source": [
    "- 외부라이브러리"
   ]
  },
  {
   "cell_type": "code",
   "execution_count": 139,
   "id": "de1c1082",
   "metadata": {},
   "outputs": [],
   "source": [
    "import numpy as np"
   ]
  },
  {
   "cell_type": "code",
   "execution_count": 140,
   "id": "caad7dc2",
   "metadata": {},
   "outputs": [],
   "source": [
    "arr = np.array([1, 2, 3, 4, 5, 6])"
   ]
  },
  {
   "cell_type": "code",
   "execution_count": null,
   "id": "5452c6b0",
   "metadata": {},
   "outputs": [
    {
     "name": "stdout",
     "output_type": "stream",
     "text": [
      "[1 2 3 4 5 6] <class 'numpy.ndarray'>\n"
     ]
    }
   ],
   "source": [
    "print(arr, type(arr))  # [1 2 3 4 5 6]"
   ]
  },
  {
   "cell_type": "code",
   "execution_count": 143,
   "id": "60c51e8f",
   "metadata": {},
   "outputs": [
    {
     "name": "stdout",
     "output_type": "stream",
     "text": [
      "[[0. 0. 0.]\n",
      " [0. 0. 0.]] <class 'numpy.ndarray'>\n"
     ]
    }
   ],
   "source": [
    "# 배열의 생성\n",
    "# 0으로 채워지는 배열 생성\n",
    "ze = np.zeros((2, 3))  # 2행 3열의 배열 생성\n",
    "print(ze, type(ze))  # [[0. 0. 0.] [0. 0. 0.]]"
   ]
  },
  {
   "cell_type": "code",
   "execution_count": 144,
   "id": "98476f37",
   "metadata": {},
   "outputs": [
    {
     "name": "stdout",
     "output_type": "stream",
     "text": [
      "[0 2 4 6 8] <class 'numpy.ndarray'>\n"
     ]
    }
   ],
   "source": [
    "# 일련번호 생성되는 배열\n",
    "# 0~10 사이의 숫자를 2씩 간격\n",
    "seq_1 = np.arange(0,10,2)\n",
    "print(seq_1, type(seq_1))  # [0 2 4 6 8]"
   ]
  },
  {
   "cell_type": "code",
   "execution_count": 147,
   "id": "f9c7539b",
   "metadata": {},
   "outputs": [
    {
     "name": "stdout",
     "output_type": "stream",
     "text": [
      "[ 1.  4.  7. 10.] <class 'numpy.ndarray'>\n"
     ]
    }
   ],
   "source": [
    "# 지정된 범위 안에서 동일한 간격으로 숫자를 생성\n",
    "# 0~1 5개로 구분\n",
    "lispace = np.linspace(1, 10, 4)\n",
    "print(lispace, type(lispace))  # [ 0.   2.75  5.5   8.25 11.  ]"
   ]
  },
  {
   "cell_type": "code",
   "execution_count": 148,
   "id": "b883abb9",
   "metadata": {},
   "outputs": [
    {
     "name": "stdout",
     "output_type": "stream",
     "text": [
      "(2, 3)\n"
     ]
    }
   ],
   "source": [
    "# 배열의 속성 확인\n",
    "arr1 = np.array([[1, 2, 3], [4, 5, 6]])\n",
    "print(arr1.shape)  # (2, 3) - 2행 3열"
   ]
  },
  {
   "cell_type": "code",
   "execution_count": null,
   "id": "507ab202",
   "metadata": {},
   "outputs": [
    {
     "name": "stdout",
     "output_type": "stream",
     "text": [
      "<class 'numpy.ndarray'>\n"
     ]
    }
   ],
   "source": [
    "print(type(arr1))  # <class 'numpy.ndarray'> - numpy 배열 객체z"
   ]
  },
  {
   "cell_type": "code",
   "execution_count": 150,
   "id": "3ddd1813",
   "metadata": {},
   "outputs": [
    {
     "name": "stdout",
     "output_type": "stream",
     "text": [
      "2\n"
     ]
    }
   ],
   "source": [
    "print(arr1.ndim)  # 2 - 배열의 차원 수"
   ]
  },
  {
   "cell_type": "code",
   "execution_count": null,
   "id": "582e0612",
   "metadata": {},
   "outputs": [],
   "source": []
  },
  {
   "cell_type": "code",
   "execution_count": null,
   "id": "254849f1",
   "metadata": {},
   "outputs": [],
   "source": []
  },
  {
   "cell_type": "code",
   "execution_count": null,
   "id": "75956540",
   "metadata": {},
   "outputs": [],
   "source": []
  }
 ],
 "metadata": {
  "kernelspec": {
   "display_name": ".venv",
   "language": "python",
   "name": "python3"
  },
  "language_info": {
   "codemirror_mode": {
    "name": "ipython",
    "version": 3
   },
   "file_extension": ".py",
   "mimetype": "text/x-python",
   "name": "python",
   "nbconvert_exporter": "python",
   "pygments_lexer": "ipython3",
   "version": "3.13.4"
  }
 },
 "nbformat": 4,
 "nbformat_minor": 5
}
