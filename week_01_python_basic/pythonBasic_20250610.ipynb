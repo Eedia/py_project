{
 "cells": [
  {
   "cell_type": "code",
   "execution_count": 1,
   "id": "e6c08584",
   "metadata": {},
   "outputs": [],
   "source": [
    "# 리스트 : [] => 순서를 가지는 데이터 묶음\n",
    "# index 값으로 요소들을 참조 => 0~ N (요소의 개수)\n",
    "list_a = [1,2,3,4,5]"
   ]
  },
  {
   "cell_type": "code",
   "execution_count": null,
   "id": "8f9a4b72",
   "metadata": {},
   "outputs": [
    {
     "data": {
      "text/plain": [
       "5"
      ]
     },
     "execution_count": 2,
     "metadata": {},
     "output_type": "execute_result"
    }
   ],
   "source": [
    "list_a[ len(list_a)-1 ] # N-1 \n",
    "# 항상 리스트에 마지막 인덱스를 찾아준다다"
   ]
  },
  {
   "cell_type": "code",
   "execution_count": 3,
   "id": "0de7cb68",
   "metadata": {},
   "outputs": [],
   "source": [
    "list_b = [ 1, 2, 3, ['a','b','c']]\n",
    "\n"
   ]
  },
  {
   "cell_type": "code",
   "execution_count": 4,
   "id": "39377324",
   "metadata": {},
   "outputs": [
    {
     "data": {
      "text/plain": [
       "4"
      ]
     },
     "execution_count": 4,
     "metadata": {},
     "output_type": "execute_result"
    }
   ],
   "source": [
    "len(list_b)"
   ]
  },
  {
   "cell_type": "code",
   "execution_count": 9,
   "id": "b92b19ea",
   "metadata": {},
   "outputs": [
    {
     "name": "stdout",
     "output_type": "stream",
     "text": [
      "1\n",
      "2\n",
      "3\n",
      "['a', 'b', 'c']\n",
      "a b c\n"
     ]
    }
   ],
   "source": [
    "print(list_b[0])\n",
    "print(list_b[1])\n",
    "print(list_b[2])\n",
    "print(list_b[3])\n",
    "print(list_b[3][0] , list_b[3][1], list_b[3][2])"
   ]
  },
  {
   "cell_type": "code",
   "execution_count": 10,
   "id": "30b448aa",
   "metadata": {},
   "outputs": [],
   "source": [
    "list_c = [1, 2, 3, 4, 5]"
   ]
  },
  {
   "cell_type": "code",
   "execution_count": 13,
   "id": "b6452eb1",
   "metadata": {},
   "outputs": [
    {
     "data": {
      "text/plain": [
       "[1, 2, 3, 4, 5]"
      ]
     },
     "execution_count": 13,
     "metadata": {},
     "output_type": "execute_result"
    }
   ],
   "source": [
    "list_c[1:4]\n",
    "list_c[:4]  #   list_c[0:4]\n",
    "list_c[1:]  #   list_c[1:5]\n",
    "list_c[:]\n",
    "list_c"
   ]
  },
  {
   "cell_type": "code",
   "execution_count": 14,
   "id": "f69a909a",
   "metadata": {},
   "outputs": [],
   "source": [
    "list_d = [100, 200, 300]"
   ]
  },
  {
   "cell_type": "code",
   "execution_count": 16,
   "id": "d10a2736",
   "metadata": {},
   "outputs": [
    {
     "data": {
      "text/plain": [
       "[1, 2, 3, 4, 5, 100, 200, 300]"
      ]
     },
     "execution_count": 16,
     "metadata": {},
     "output_type": "execute_result"
    }
   ],
   "source": [
    "list_c\n",
    "list_d\n",
    "list_c +list_d"
   ]
  },
  {
   "cell_type": "code",
   "execution_count": 17,
   "id": "95d27db9",
   "metadata": {},
   "outputs": [
    {
     "data": {
      "text/plain": [
       "[100, 200, 300, 100, 200, 300, 100, 200, 300]"
      ]
     },
     "execution_count": 17,
     "metadata": {},
     "output_type": "execute_result"
    }
   ],
   "source": [
    "# * : 리스트의 요소를 n번 반복해서 저장 -> 새로운 리스트\n",
    "list_d * 3"
   ]
  },
  {
   "cell_type": "code",
   "execution_count": 18,
   "id": "f36c2125",
   "metadata": {},
   "outputs": [],
   "source": [
    "# 리스트에 요소(데이터) 추가 : 순서 => 마지막 인덱스 다음에 데이터 추가\n",
    "# append() : 메서드 => 리스트의 마지막에 데이터 추가\n",
    "list_a = [1,2,3]"
   ]
  },
  {
   "cell_type": "code",
   "execution_count": 19,
   "id": "5ccbc0db",
   "metadata": {},
   "outputs": [],
   "source": [
    "list_a.append(100)\n",
    "# 객체(list)"
   ]
  },
  {
   "cell_type": "code",
   "execution_count": 20,
   "id": "6558b32b",
   "metadata": {},
   "outputs": [
    {
     "data": {
      "text/plain": [
       "[1, 2, 3, 100]"
      ]
     },
     "execution_count": 20,
     "metadata": {},
     "output_type": "execute_result"
    }
   ],
   "source": [
    "list_a"
   ]
  },
  {
   "cell_type": "code",
   "execution_count": 21,
   "id": "dc539f71",
   "metadata": {},
   "outputs": [
    {
     "data": {
      "text/plain": [
       "1"
      ]
     },
     "execution_count": 21,
     "metadata": {},
     "output_type": "execute_result"
    }
   ],
   "source": [
    "# pop : 마지막 요소 추출 -> 삭제, 값을 반환\n",
    "# list_a.pop()\n",
    "list_a.pop(0)"
   ]
  },
  {
   "cell_type": "code",
   "execution_count": 22,
   "id": "1082cc42",
   "metadata": {},
   "outputs": [
    {
     "data": {
      "text/plain": [
       "[2, 3, 100]"
      ]
     },
     "execution_count": 22,
     "metadata": {},
     "output_type": "execute_result"
    }
   ],
   "source": [
    "list_a"
   ]
  },
  {
   "cell_type": "code",
   "execution_count": 23,
   "id": "82520644",
   "metadata": {},
   "outputs": [],
   "source": [
    "list_a  = [1,4,9,2,10]"
   ]
  },
  {
   "cell_type": "code",
   "execution_count": 24,
   "id": "ab13fff1",
   "metadata": {},
   "outputs": [],
   "source": [
    "list_a.sort()"
   ]
  },
  {
   "cell_type": "code",
   "execution_count": 25,
   "id": "7541e5c9",
   "metadata": {},
   "outputs": [
    {
     "data": {
      "text/plain": [
       "[1, 2, 4, 9, 10]"
      ]
     },
     "execution_count": 25,
     "metadata": {},
     "output_type": "execute_result"
    }
   ],
   "source": [
    "list_a"
   ]
  },
  {
   "cell_type": "code",
   "execution_count": 28,
   "id": "4e35ed98",
   "metadata": {},
   "outputs": [],
   "source": [
    "list_a.reverse()\n"
   ]
  },
  {
   "cell_type": "code",
   "execution_count": 30,
   "id": "73b589b2",
   "metadata": {},
   "outputs": [
    {
     "data": {
      "text/plain": [
       "[10, 9, 4, 2, 1]"
      ]
     },
     "execution_count": 30,
     "metadata": {},
     "output_type": "execute_result"
    }
   ],
   "source": [
    "list_a"
   ]
  },
  {
   "cell_type": "code",
   "execution_count": null,
   "id": "1355e45d",
   "metadata": {},
   "outputs": [
    {
     "data": {
      "text/plain": [
       "3"
      ]
     },
     "execution_count": 31,
     "metadata": {},
     "output_type": "execute_result"
    }
   ],
   "source": [
    "list_a.index(2) "
   ]
  },
  {
   "cell_type": "code",
   "execution_count": 32,
   "id": "b55ec3d8",
   "metadata": {},
   "outputs": [],
   "source": [
    "list_a.insert(1, 99)"
   ]
  },
  {
   "cell_type": "code",
   "execution_count": 33,
   "id": "da1c2c05",
   "metadata": {},
   "outputs": [
    {
     "data": {
      "text/plain": [
       "[10, 99, 9, 4, 2, 1]"
      ]
     },
     "execution_count": 33,
     "metadata": {},
     "output_type": "execute_result"
    }
   ],
   "source": [
    "list_a"
   ]
  },
  {
   "cell_type": "code",
   "execution_count": 34,
   "id": "5b768884",
   "metadata": {},
   "outputs": [],
   "source": [
    "list_a.extend(list_d)"
   ]
  },
  {
   "cell_type": "code",
   "execution_count": 35,
   "id": "6d3931e1",
   "metadata": {},
   "outputs": [
    {
     "data": {
      "text/plain": [
       "[10, 99, 9, 4, 2, 1, 100, 200, 300]"
      ]
     },
     "execution_count": 35,
     "metadata": {},
     "output_type": "execute_result"
    }
   ],
   "source": [
    "list_a"
   ]
  },
  {
   "cell_type": "code",
   "execution_count": 38,
   "id": "457bdc66",
   "metadata": {},
   "outputs": [],
   "source": [
    "# tuple : list 와 동일, 단 요소(데이터) 변경은 불가능\n",
    "# -> 데이터 안전하게 유지\n",
    "t_2 = (1, 2,3 ,4)"
   ]
  },
  {
   "cell_type": "code",
   "execution_count": 39,
   "id": "7bc7bf7a",
   "metadata": {},
   "outputs": [
    {
     "data": {
      "text/plain": [
       "(1, 2, 3, 4)"
      ]
     },
     "execution_count": 39,
     "metadata": {},
     "output_type": "execute_result"
    }
   ],
   "source": [
    "t_2"
   ]
  },
  {
   "cell_type": "code",
   "execution_count": 41,
   "id": "5de74ab9",
   "metadata": {},
   "outputs": [],
   "source": [
    "t_3 = 10,20,30,40\n"
   ]
  },
  {
   "cell_type": "code",
   "execution_count": 42,
   "id": "74305c1a",
   "metadata": {},
   "outputs": [
    {
     "data": {
      "text/plain": [
       "tuple"
      ]
     },
     "execution_count": 42,
     "metadata": {},
     "output_type": "execute_result"
    }
   ],
   "source": [
    "type(t_3)"
   ]
  },
  {
   "cell_type": "code",
   "execution_count": 45,
   "id": "c0aaa5bf",
   "metadata": {},
   "outputs": [
    {
     "data": {
      "text/plain": [
       "(40,)"
      ]
     },
     "execution_count": 45,
     "metadata": {},
     "output_type": "execute_result"
    }
   ],
   "source": [
    "t_3[3:]"
   ]
  },
  {
   "cell_type": "code",
   "execution_count": null,
   "id": "87bc0c98",
   "metadata": {},
   "outputs": [],
   "source": [
    "a ,b ,c = 1000, 2000, 3000 # 특정함수에서 반환 데이터 tuple 타입"
   ]
  },
  {
   "cell_type": "code",
   "execution_count": 50,
   "id": "ff384763",
   "metadata": {},
   "outputs": [
    {
     "name": "stdout",
     "output_type": "stream",
     "text": [
      "1000 2000 3000\n"
     ]
    }
   ],
   "source": [
    "print(a, b,c)"
   ]
  },
  {
   "cell_type": "code",
   "execution_count": 51,
   "id": "098685ed",
   "metadata": {},
   "outputs": [
    {
     "data": {
      "text/plain": [
       "(1, 2, 3, 4, 10, 20, 30, 40)"
      ]
     },
     "execution_count": 51,
     "metadata": {},
     "output_type": "execute_result"
    }
   ],
   "source": [
    "t_2 +t_3"
   ]
  },
  {
   "cell_type": "code",
   "execution_count": 52,
   "id": "0043e293",
   "metadata": {},
   "outputs": [
    {
     "data": {
      "text/plain": [
       "(10, 20, 30, 40, 10, 20, 30, 40, 10, 20, 30, 40)"
      ]
     },
     "execution_count": 52,
     "metadata": {},
     "output_type": "execute_result"
    }
   ],
   "source": [
    "t_3 * 3"
   ]
  },
  {
   "cell_type": "code",
   "execution_count": 53,
   "id": "3b065a3e",
   "metadata": {},
   "outputs": [
    {
     "data": {
      "text/plain": [
       "dict"
      ]
     },
     "execution_count": 53,
     "metadata": {},
     "output_type": "execute_result"
    }
   ],
   "source": [
    "# 딕셔너리 : key : value => key 값으로 데이터를 참조\n",
    "# { key1:value1, ley2:value2, ...}\n",
    "\n",
    "dict_1 = {}\n",
    "type(dict_1)"
   ]
  },
  {
   "cell_type": "code",
   "execution_count": 54,
   "id": "414207a9",
   "metadata": {},
   "outputs": [
    {
     "name": "stdout",
     "output_type": "stream",
     "text": [
      "{1: 'a'}\n",
      "<class 'dict'>\n"
     ]
    }
   ],
   "source": [
    "dict_2 = {1 : 'a'}\n",
    "print(dict_2)\n",
    "print(type(dict_2))"
   ]
  },
  {
   "cell_type": "code",
   "execution_count": 55,
   "id": "41d58aac",
   "metadata": {},
   "outputs": [
    {
     "data": {
      "text/plain": [
       "{1: 'a', 2: 'b'}"
      ]
     },
     "execution_count": 55,
     "metadata": {},
     "output_type": "execute_result"
    }
   ],
   "source": [
    "# 요소 값 추가 => key 정의, 값 정의\n",
    "dict_2[2] = 'b'\n",
    "dict_2"
   ]
  },
  {
   "cell_type": "code",
   "execution_count": 58,
   "id": "9a6bd402",
   "metadata": {},
   "outputs": [],
   "source": [
    "# 학생 : 학번, 이름, 학년, 학과 => 데이터의 구조화\n",
    "std_1 = {\n",
    "    's_no' : 21267,\n",
    "    's_name'  : 'OH',\n",
    "    'grade'   : 4,\n",
    "    'major' : 'COM'\n",
    "}"
   ]
  },
  {
   "cell_type": "code",
   "execution_count": 59,
   "id": "ad21d81b",
   "metadata": {},
   "outputs": [
    {
     "data": {
      "text/plain": [
       "21267"
      ]
     },
     "execution_count": 59,
     "metadata": {},
     "output_type": "execute_result"
    }
   ],
   "source": [
    "std_1['s_no']"
   ]
  },
  {
   "cell_type": "code",
   "execution_count": 63,
   "id": "313b40e4",
   "metadata": {},
   "outputs": [],
   "source": [
    "player = {\n",
    "    'team': 'UNIT',\n",
    "    'name' : 'JUN',\n",
    "    'bnumber' : 7\n",
    "    \n",
    "}"
   ]
  },
  {
   "cell_type": "code",
   "execution_count": 64,
   "id": "06ef7a7c",
   "metadata": {},
   "outputs": [
    {
     "data": {
      "text/plain": [
       "dict_keys(['team', 'name', 'bnumber'])"
      ]
     },
     "execution_count": 64,
     "metadata": {},
     "output_type": "execute_result"
    }
   ],
   "source": [
    "player.keys()"
   ]
  },
  {
   "cell_type": "code",
   "execution_count": 67,
   "id": "3d0c1166",
   "metadata": {},
   "outputs": [
    {
     "data": {
      "text/plain": [
       "dict_values(['UNIT', 'JUN', 7])"
      ]
     },
     "execution_count": 67,
     "metadata": {},
     "output_type": "execute_result"
    }
   ],
   "source": [
    "player.values()"
   ]
  },
  {
   "cell_type": "code",
   "execution_count": null,
   "id": "3ef7304c",
   "metadata": {},
   "outputs": [],
   "source": [
    "# 1시 ~ 2시30분분"
   ]
  },
  {
   "cell_type": "code",
   "execution_count": null,
   "id": "66ad9363",
   "metadata": {},
   "outputs": [],
   "source": [
    "# 양수 +, => num1 > 0\n",
    "# 음수 -, => num1 < 0\n",
    "\n",
    "# 0 => num == 0 => num1이0보다 작지도 않고 크지도 않다\n"
   ]
  },
  {
   "cell_type": "code",
   "execution_count": null,
   "id": "58181e74",
   "metadata": {},
   "outputs": [],
   "source": []
  },
  {
   "cell_type": "code",
   "execution_count": null,
   "id": "b247c39c",
   "metadata": {},
   "outputs": [],
   "source": [
    "# 반복문 : while condition(True/False)\n",
    "# 조건식을 통해서 반복 -> 탈출이 가능해야 한다!"
   ]
  },
  {
   "cell_type": "code",
   "execution_count": 1,
   "id": "f62e3ff0",
   "metadata": {},
   "outputs": [
    {
     "name": "stdout",
     "output_type": "stream",
     "text": [
      "25세: 성인으로 건강검진 대상입니다.\n",
      "- 올해는 출생연도와 같은 짝/홀수 해로 검진 대상입니다.\n",
      "\n"
     ]
    }
   ],
   "source": [
    "def check_health_exam_target(birth_year: int, current_year: int):\n",
    "    age = current_year - birth_year + 1  # 한국식 나이 계산\n",
    "    is_adult = age >= 20\n",
    "    is_even_year = current_year % 2 == 0\n",
    "    is_even_birth = birth_year % 2 == 0\n",
    "\n",
    "    if not is_adult:\n",
    "        return f\"{age}세: 성인이 아니므로 건강검진 대상이 아닙니다.\"\n",
    "\n",
    "    result = f\"{age}세: 성인으로 건강검진 대상입니다.\\n\"\n",
    "\n",
    "    # 짝/홀수 해 기준 대상 여부\n",
    "    if is_even_year == is_even_birth:\n",
    "        result += \"- 올해는 출생연도와 같은 짝/홀수 해로 검진 대상입니다.\\n\"\n",
    "    else:\n",
    "        result += \"- 올해는 출생연도와 다른 해로 검진 대상이 아닙니다.\\n\"\n",
    "\n",
    "    # 암검진 여부\n",
    "    if age >= 40:\n",
    "        result += \"- 암검진도 무료로 받을 수 있습니다.\"\n",
    "\n",
    "    return result\n",
    "\n",
    "\n",
    "# 예시 실행\n",
    "birth_year = int(input(\"출생연도 입력: \"))\n",
    "current_year = int(input(\"올해 연도 입력: \"))\n",
    "print(check_health_exam_target(birth_year, current_year))\n"
   ]
  },
  {
   "cell_type": "code",
   "execution_count": 2,
   "id": "3989d8f3",
   "metadata": {},
   "outputs": [
    {
     "name": "stdout",
     "output_type": "stream",
     "text": [
      "\n",
      "[2단]\n",
      "2 x 1 = 2\n",
      "2 x 2 = 4\n",
      "\n",
      "[4단]\n",
      "4 x 1 = 4\n",
      "4 x 2 = 8\n",
      "4 x 3 = 12\n",
      "4 x 4 = 16\n",
      "\n",
      "[6단]\n",
      "6 x 1 = 6\n",
      "6 x 2 = 12\n",
      "6 x 3 = 18\n",
      "6 x 4 = 24\n",
      "6 x 5 = 30\n",
      "6 x 6 = 36\n",
      "\n",
      "[8단]\n",
      "8 x 1 = 8\n",
      "8 x 2 = 16\n",
      "8 x 3 = 24\n",
      "8 x 4 = 32\n",
      "8 x 5 = 40\n",
      "8 x 6 = 48\n",
      "8 x 7 = 56\n",
      "8 x 8 = 64\n"
     ]
    }
   ],
   "source": [
    "for dan in range(2, 9, 2):  # 2, 4, 6, 8 단\n",
    "    print(f\"\\n[{dan}단]\")\n",
    "    for i in range(1, dan + 1):\n",
    "        print(f\"{dan} x {i} = {dan * i}\")\n"
   ]
  },
  {
   "cell_type": "code",
   "execution_count": 7,
   "id": "4f6300bc",
   "metadata": {},
   "outputs": [
    {
     "name": "stdout",
     "output_type": "stream",
     "text": [
      "합이 10000을 넘어선 순간의 숫자: 172\n",
      "10000을 넘어선 값: 10005\n"
     ]
    }
   ],
   "source": [
    "num = 1\n",
    "total_sum = 0\n",
    "\n",
    "while True:\n",
    "    # 짝수 또는 3의 배수인지 확인\n",
    "    if num % 2 == 0 or num % 3 == 0:\n",
    "        total_sum += num\n",
    "\n",
    "    # 합이 10000을 넘어섰는지 확인\n",
    "    if total_sum > 10000:\n",
    "        print(f\"합이 10000을 넘어선 순간의 숫자: {num}\")\n",
    "        print(f\"10000을 넘어선 값: {total_sum}\")\n",
    "        break  # 10000을 넘었으므로 무한 루프 종료\n",
    "\n",
    "    num += 1"
   ]
  }
 ],
 "metadata": {
  "kernelspec": {
   "display_name": ".venv",
   "language": "python",
   "name": "python3"
  },
  "language_info": {
   "codemirror_mode": {
    "name": "ipython",
    "version": 3
   },
   "file_extension": ".py",
   "mimetype": "text/x-python",
   "name": "python",
   "nbconvert_exporter": "python",
   "pygments_lexer": "ipython3",
   "version": "3.13.4"
  }
 },
 "nbformat": 4,
 "nbformat_minor": 5
}
