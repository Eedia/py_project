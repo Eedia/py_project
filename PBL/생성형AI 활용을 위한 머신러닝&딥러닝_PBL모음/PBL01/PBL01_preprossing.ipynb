{
 "cells": [
  {
   "cell_type": "markdown",
   "id": "29783dfc",
   "metadata": {},
   "source": [
    "- **제출자: AI26_오준서**  \n",
    "- **제출일: 2025-06-21**  \n",
    "- **PBL01 : 당뇨병 진단 데이터를 활용한 데이터 전처리 및 EDA 분석 (결측치 및 이상치 처리 방법 학습)**\n",
    "    - **데이터셋 : diabets.csv (Pima Indians Diabets Dataset)**\n",
    "    - **결측치 처리**\n",
    "        - **Glucose, BloodPressure, SkinThickness, Insulin, BMI 열에서 0을 결측치로 간주하고 평균으로 대체**\n",
    "    - **이상치 처리**\n",
    "        - **SkinThickness, Insulin여렝서 상위 1%를 이상치로 간주하고 평균으로 대체**\n",
    "    - **정규화**\n",
    "        - **Age 열을 MinMaxScalar로 0~1범위로 정규화**\n",
    "    - **EDA**\n",
    "        - **각 열의 결측치 개수 출력**\n",
    "        - **Outcome 별 Glucose 평균 출력**\n",
    "        - **전처리 후 데이터프레임 상위 5개 행 출력**\n",
    "\n",
    "- **해결 가이드**\n",
    "    - **DataFrame 초기화 및 총매출 파생열 생성**\n",
    "    - **groupby을 활용한 집계 및 시각화(bar, pie)**\n",
    "    \n",
    "- 시각화 정확도 및 정보 전달력:\n",
    "    > 파이 차트/막대 그래프 구성의 명확성\n",
    "- 객체지향 설계 및 데이터 처리력:\n",
    "    > 클래스 사용 여부, 매출 계산 정확성\n",
    "- 결과 해석 및 문서화:\n",
    "    > 분석 결과에 대한 해석 가능성, 출력 메시지 및 주석"
   ]
  },
  {
   "cell_type": "code",
   "execution_count": null,
   "id": "f3cbefec",
   "metadata": {
    "vscode": {
     "languageId": "plaintext"
    }
   },
   "outputs": [],
   "source": []
  }
 ],
 "metadata": {
  "kernelspec": {
   "display_name": ".venv",
   "language": "python",
   "name": "python3"
  },
  "language_info": {
   "codemirror_mode": {
    "name": "ipython",
    "version": 3
   },
   "file_extension": ".py",
   "mimetype": "text/x-python",
   "name": "python",
   "nbconvert_exporter": "python",
   "pygments_lexer": "ipython3",
   "version": "3.13.4"
  }
 },
 "nbformat": 4,
 "nbformat_minor": 5
}
