{
 "cells": [
  {
   "cell_type": "markdown",
   "id": "c25ede33",
   "metadata": {},
   "source": [
    "- **제출자: AI26_오준서**  \n",
    "- **제출일: 2025-06-12**  \n",
    "- **PBL01 : 학생 평균 성적 관리 ( 학생 성적 관리 프로그램 )**\n",
    "    - **1. StudentScores 클래스 정의**\n",
    "    - **2. 생성자: 파일을 읽고 데이터를 딕셔너리에 저장**\n",
    "    - **3. 평균 점수 계산 메서드**\n",
    "    - **4. 평균 이상 학생 리스트 반환 메서드**\n",
    "    - **5. 평균 이하 학생 데이터를 별도 파일로 저장하는 메서드 (below_averge_koean.txt)**\n",
    "    - **6. 평균 점수와 평균 이상 학생 리스트 출력 메서드**"
   ]
  },
  {
   "cell_type": "markdown",
   "id": "03b2d06d",
   "metadata": {},
   "source": [
    "- ipynb 파일이기 때문에 모듈로 사용하기에는 제약 사항들이 존재한다. (nbimport 사용)\n",
    "- 아래에 있는 StudentScores 클래스를 모듈로서 사용하기 위해서는 .py 로 하는게 편하다.\n",
    "- 하지만 지금은 과제 제출을 위한 코드 작성이기 때문에 markdown을 사용할 수 있는 ipynb 파일로 만들어서 제출. -> .ipynb 자체를 공유하면 실행했던 결과도 공유 가능!"
   ]
  },
  {
   "cell_type": "code",
   "execution_count": null,
   "id": "787a8fad",
   "metadata": {},
   "outputs": [
    {
     "name": "stdout",
     "output_type": "stream",
     "text": [
      "-------- 학생 점수 요약 print_summary() ---------\n",
      "전체 학생 점수:\n",
      "김철수: 85\n",
      "박영희: 90\n",
      "이민호: 78\n",
      "최다은: 92\n",
      "강은지: 88\n",
      "평균 점수: 86.60\n",
      "평균보다 높은 학생들: 박영희, 최다은, 강은지\n",
      "'below_average_scores.txt' 파일에 평균보다 낮은 학생들의 점수를 저장했습니다.\n",
      "------------------------------------------------\n"
     ]
    }
   ],
   "source": [
    "class StudentScores:\n",
    "    # __init__ : 파일 열기 및 딕셔너리에 저장 (예외처리 필수)\n",
    "    def __init__(self, filename):\n",
    "        self.scores = {}\n",
    "        try:\n",
    "            with open(filename, 'r', encoding='utf-8') as file: # 파일 열기. 자동으로 close\n",
    "                for line in file: # 각 줄을 읽어서 딕셔너리 형태로 저장. {학생 : 점수}\n",
    "                    student, score = line.strip().split(',')\n",
    "                    self.scores[student] = int(score)   # 점수는 정수로 변환\n",
    "        \n",
    "        except FileNotFoundError:\n",
    "            print(f\" '{filename}' 파일이 존재하지 않습니다.\")\n",
    "        except ValueError:\n",
    "            print(\"파일 형식이 잘못되었습니다. 각 줄은 '학생,점수' 형식이어야 합니다.\")\n",
    "        except IOError:\n",
    "            print(f\"오류: '{filename}' 파일을 열 수 없습니다. 파일 경로와 권한을 확인하세요.\")\n",
    "        except Exception as e:\n",
    "            print(f\"오류가 발생했습니다: {e}\")\n",
    "    \n",
    "    # calculate_average : 딕셔너리의 값들의 평균을 계산\n",
    "    def calculate_average(self):\n",
    "        try:\n",
    "            total_score = sum(self.scores.values()) # 점수의 합계\n",
    "            if len(self.scores) == 0 :  # 딕셔너리가 비어있는지 확인\n",
    "                print(\"점수가 없습니다. 평균을 계산할 수 없습니다. (딕셔너리가 비어있음)\")\n",
    "                return 0\n",
    "        except TypeError:\n",
    "            print(\"점수 값이 올바르지 않습니다. 모든 점수가 정수여야 합니다.\")\n",
    "            return 0\n",
    "        except ZeroDivisionError:\n",
    "            print(\"점수가 없습니다. 평균을 계산할 수 없습니다. (0으로 나눌 수 없습니다.)\")\n",
    "            return 0\n",
    "        except Exception as e:\n",
    "            print(f\"오류가 발생했습니다: {e}\")\n",
    "            return 0\n",
    "        else:\n",
    "            # 평균 계산\n",
    "            # try-except를 이용 했기에 여기서는 예외가 발생하지 않음\n",
    "            average = total_score / len(self.scores)\n",
    "            return average\n",
    "    # get_above_average : 평균보다 큰 값들의 리스트를 반환\n",
    "    def get_above_average(self):\n",
    "        average = self.calculate_average()\n",
    "        # 평균보다 높은 점수를 가진 학생들의 리스트를 반환\n",
    "        above_average = [student for student, score in self.scores.items() if score > average]\n",
    "        # print(f\"above 입니다 {above_average}\")  ## 디버깅용. 학생들이 리스트 형태로 저장되는지 확인\n",
    "        # print(type(above_average))\n",
    "        return above_average\n",
    "    \n",
    "    # save_below_average : 평균보다 작은 값들을 파일에 저장\n",
    "    def save_below_average(self, filename):\n",
    "        average = self.calculate_average()\n",
    "        # 평균보다 낮은 점수를 가진 학생들의 딕셔너리를 생성\n",
    "        below_average = {student: score for student, score in self.scores.items() if score < average}\n",
    "        try: # 평균보다 낮은 점수를 가진 학생과 점수를 파일에 저장\n",
    "            with open(filename, 'w', encoding='utf-8') as file:\n",
    "                for student, score in below_average.items():\n",
    "                    file.write(f\"{student},{score}\\n\")\n",
    "        except IOError:\n",
    "            print(f\"오류: '{filename}' 파일을 저장할 수 없습니다. 파일 경로와 권한을 확인하세요.\")\n",
    "        except Exception as e:\n",
    "            print(f\"오류가 발생했습니다: {e}\")\n",
    "        else: # 저장이 성공적으로 완료되었음을 확인!\n",
    "            print(f\"'{filename}' 파일에 평균보다 낮은 학생들의 점수를 저장했습니다.\")\n",
    "    \n",
    "    # print_summary : 전체 딕셔너리의 내용과 평균을 출력\n",
    "    def print_summary(self):\n",
    "        average = self.calculate_average()\n",
    "        print(\"전체 학생 점수:\")\n",
    "        for student, score in self.scores.items():\n",
    "            print(f\"{student}: {score}\")\n",
    "        print(f\"평균 점수: {average:.2f}\")\n",
    "        above_average = self.get_above_average()\n",
    "        print(\"평균보다 높은 학생들:\", \", \".join(above_average) if above_average else \"없음\")\n",
    "        student_scores.save_below_average('below_average_scores.txt')\n",
    "\n",
    "if __name__ == \"__main__\": # 이 부분은 직접 실행될 때만 실행됨 (import될 때는 실행되지 않음)\n",
    "    scores_file = '20250611_164731_scores_korean/scores_korean.txt'\n",
    "    student_scores = StudentScores(scores_file)\n",
    "\n",
    "    print(\"-------- 학생 점수 요약 print_summary() ---------\")\n",
    "    student_scores.print_summary()\n",
    "    print(\"------------------------------------------------\")"
   ]
  },
  {
   "cell_type": "code",
   "execution_count": 2,
   "id": "201efe5c",
   "metadata": {},
   "outputs": [
    {
     "name": "stdout",
     "output_type": "stream",
     "text": [
      "김철수,85\n",
      "박영희,90\n",
      "이민호,78\n",
      "최다은,92\n",
      "강은지,88\n"
     ]
    }
   ],
   "source": [
    "# 확인을 위해 저장된 파일을 읽어서 출력\n",
    "if __name__ == \"__main__\":\n",
    "    with open('20250611_164731_scores_korean/scores_korean.txt', 'r', encoding='utf-8') as file:\n",
    "        for line in file:\n",
    "            print(line.strip())  # 각 줄을 출력 "
   ]
  },
  {
   "cell_type": "code",
   "execution_count": 3,
   "id": "1112d0ee",
   "metadata": {},
   "outputs": [
    {
     "name": "stdout",
     "output_type": "stream",
     "text": [
      "김철수,85\n",
      "이민호,78\n"
     ]
    }
   ],
   "source": [
    "# 확인을 위해 저장된 파일을 읽어서 출력\n",
    "if __name__ == \"__main__\":\n",
    "    with open('below_average_scores.txt', 'r', encoding='utf-8') as file:\n",
    "        for line in file:\n",
    "            print(line.strip())  # 각 줄을 출력"
   ]
  }
 ],
 "metadata": {
  "kernelspec": {
   "display_name": ".venv",
   "language": "python",
   "name": "python3"
  },
  "language_info": {
   "codemirror_mode": {
    "name": "ipython",
    "version": 3
   },
   "file_extension": ".py",
   "mimetype": "text/x-python",
   "name": "python",
   "nbconvert_exporter": "python",
   "pygments_lexer": "ipython3",
   "version": "3.13.4"
  }
 },
 "nbformat": 4,
 "nbformat_minor": 5
}
